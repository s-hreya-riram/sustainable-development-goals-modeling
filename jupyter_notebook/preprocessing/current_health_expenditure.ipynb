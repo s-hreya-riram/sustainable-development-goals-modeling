{
 "cells": [
  {
   "cell_type": "code",
   "execution_count": 1,
   "id": "0517de65-c8f3-4bb9-abf8-d7d44de6c8ba",
   "metadata": {},
   "outputs": [],
   "source": [
    "import pandas as pd\n",
    "import os"
   ]
  },
  {
   "cell_type": "code",
   "execution_count": 24,
   "id": "66ed1b96-c494-4086-bd33-e5c5768403d2",
   "metadata": {},
   "outputs": [
    {
     "name": "stdout",
     "output_type": "stream",
     "text": [
      "  Global North Global South\n",
      "0      Andorra      Algeria\n",
      "1    Australia       Angola\n",
      "2      Austria    Argentina\n",
      "3      Belgium        Aruba\n",
      "4       Canada   Azerbaijan\n"
     ]
    }
   ],
   "source": [
    "country_list = pd.read_csv('../../data/country_list/countrylist.csv')\n",
    "print(country_list.head())"
   ]
  },
  {
   "cell_type": "code",
   "execution_count": 25,
   "id": "80025c0d-3312-48d3-b254-68f9f209677c",
   "metadata": {},
   "outputs": [
    {
     "name": "stdout",
     "output_type": "stream",
     "text": [
      "        Country        Region\n",
      "0       Andorra  Global North\n",
      "1     Australia  Global North\n",
      "2       Austria  Global North\n",
      "3       Belgium  Global North\n",
      "4        Canada  Global North\n",
      "..          ...           ...\n",
      "95   Seychelles  Global South\n",
      "96    Sri Lanka  Global South\n",
      "97     Thailand  Global South\n",
      "98     Viet Nam  Global South\n",
      "99  Yemen, Rep.  Global South\n",
      "\n",
      "[100 rows x 2 columns]\n"
     ]
    }
   ],
   "source": [
    "north_countries = country_list[['Global North']].copy()\n",
    "north_countries = north_countries.rename(columns={'Global North': 'Country'})\n",
    "north_countries['Region'] = 'Global North'\n",
    "north_countries = north_countries.dropna()\n",
    "north_countries['Country'] = north_countries['Country'].str.strip()\n",
    "south_countries = country_list[['Global South']].copy()\n",
    "south_countries = south_countries.rename(columns={'Global South': 'Country'})\n",
    "south_countries['Region'] = 'Global South'\n",
    "south_countries = south_countries.dropna()\n",
    "south_countries['Country'] = south_countries['Country'].str.strip()\n",
    "all_countries = pd.concat([north_countries, south_countries]).reset_index(drop=True)\n",
    "all_countries['Country_norm'] = all_countries['Country'].str.lower()\n",
    "print(all_countries[['Country', 'Region']])"
   ]
  },
  {
   "cell_type": "code",
   "execution_count": 26,
   "id": "6d7f034d-9823-4af3-bee8-14bace81cc33",
   "metadata": {},
   "outputs": [
    {
     "name": "stdout",
     "output_type": "stream",
     "text": [
      "                  Country Name Country Code  \\\n",
      "0                        Aruba          ABW   \n",
      "1  Africa Eastern and Southern          AFE   \n",
      "2                  Afghanistan          AFG   \n",
      "3   Africa Western and Central          AFW   \n",
      "4                       Angola          AGO   \n",
      "\n",
      "                                      Indicator Name     Indicator Code  1960  \\\n",
      "0  Current health expenditure per capita (current...  SH.XPD.CHEX.PC.CD   NaN   \n",
      "1  Current health expenditure per capita (current...  SH.XPD.CHEX.PC.CD   NaN   \n",
      "2  Current health expenditure per capita (current...  SH.XPD.CHEX.PC.CD   NaN   \n",
      "3  Current health expenditure per capita (current...  SH.XPD.CHEX.PC.CD   NaN   \n",
      "4  Current health expenditure per capita (current...  SH.XPD.CHEX.PC.CD   NaN   \n",
      "\n",
      "   1961  1962  1963  1964  1965  ...       2016        2017       2018  \\\n",
      "0   NaN   NaN   NaN   NaN   NaN  ...        NaN         NaN        NaN   \n",
      "1   NaN   NaN   NaN   NaN   NaN  ...  85.899217   90.013150  90.075653   \n",
      "2   NaN   NaN   NaN   NaN   NaN  ...  61.372345   66.823883  71.225090   \n",
      "3   NaN   NaN   NaN   NaN   NaN  ...  61.448089   58.221515  56.124265   \n",
      "4   NaN   NaN   NaN   NaN   NaN  ...  94.014816  112.753647  84.031044   \n",
      "\n",
      "        2019       2020       2021        2022  2023  2024  Unnamed: 69  \n",
      "0        NaN        NaN        NaN         NaN   NaN   NaN          NaN  \n",
      "1  87.298246  81.551895  92.386575   92.581521   NaN   NaN          NaN  \n",
      "2  74.064239  80.089233  81.521126   80.651604   NaN   NaN          NaN  \n",
      "3  59.069528  64.407423  72.241095   74.421351   NaN   NaN          NaN  \n",
      "4  64.613976  55.939163  67.046570  101.256142   NaN   NaN          NaN  \n",
      "\n",
      "[5 rows x 70 columns]\n"
     ]
    }
   ],
   "source": [
    "CHEX_Capita = pd.read_csv('../../data/current_health_expenditure/CHEX.csv',skiprows=4)\n",
    "print(CHEX_Capita.head())"
   ]
  },
  {
   "cell_type": "code",
   "execution_count": 28,
   "id": "5023afb0-a933-47d4-81c6-c5f1119a212f",
   "metadata": {},
   "outputs": [],
   "source": [
    "CHEX_Capita['Country_norm'] = CHEX_Capita['Country Name'].str.lower()\n",
    "chex_filtered = CHEX_Capita[CHEX_Capita['Country_norm'].isin(all_countries['Country_norm'])]"
   ]
  },
  {
   "cell_type": "code",
   "execution_count": 29,
   "id": "10cbcc1f-7737-4044-8f93-d8ddc543714b",
   "metadata": {},
   "outputs": [
    {
     "name": "stdout",
     "output_type": "stream",
     "text": [
      "Total countries after filter: 97\n"
     ]
    }
   ],
   "source": [
    "num_countries = chex_filtered['Country_norm'].nunique()\n",
    "print(f\"Total countries after filter: {num_countries}\")"
   ]
  },
  {
   "cell_type": "raw",
   "id": "1b936f37-bf38-4300-a57b-8bb3f6f7924c",
   "metadata": {},
   "source": [
    "missing_countries_CHEX = [c for c in all_country_list if c not in chex_countries]\n",
    "print(missing_countries_CHEX)"
   ]
  },
  {
   "cell_type": "code",
   "execution_count": 30,
   "id": "97753167-d797-43d1-91ee-bbbec77aa673",
   "metadata": {},
   "outputs": [],
   "source": [
    "chex_set = set(CHEX_Capita['Country_norm'])"
   ]
  },
  {
   "cell_type": "code",
   "execution_count": 31,
   "id": "f776c17d-2a80-4515-92e6-2a397684034a",
   "metadata": {},
   "outputs": [
    {
     "name": "stdout",
     "output_type": "stream",
     "text": [
      "   Country        Region Country_norm\n",
      "40  Taiwan  Global North       taiwan\n"
     ]
    }
   ],
   "source": [
    "missing_countries = all_countries[~all_countries['Country_norm'].isin(chex_set)].copy()\n",
    "print(missing_countries)"
   ]
  },
  {
   "cell_type": "code",
   "execution_count": 32,
   "id": "9e99f6c0-1e32-4295-bab4-6973a1f5f2c7",
   "metadata": {},
   "outputs": [],
   "source": [
    "availability = []"
   ]
  },
  {
   "cell_type": "code",
   "execution_count": 33,
   "id": "fb87a67d-c1f0-46b2-a0f3-05033014f2c4",
   "metadata": {},
   "outputs": [],
   "source": [
    "years = list(map(str, range(2000, 2025)))"
   ]
  },
  {
   "cell_type": "code",
   "execution_count": 35,
   "id": "bc0c5b59-75e7-4ea5-8d36-707e82fec2d6",
   "metadata": {},
   "outputs": [],
   "source": [
    "countries_in_chex = all_countries[all_countries['Country'].str.lower().isin(chex_set)].copy()\n",
    "countries_in_chex['Country_norm'] = countries_in_chex['Country'].str.lower()"
   ]
  },
  {
   "cell_type": "code",
   "execution_count": 36,
   "id": "9f50489b-07de-44ba-a22a-d6101453aebf",
   "metadata": {},
   "outputs": [],
   "source": [
    "for _, row in countries_in_chex.iterrows():\n",
    "    country_norm = row['Country_norm']\n",
    "    chex_row = CHEX_Capita[CHEX_Capita['Country_norm'] == country_norm]\n",
    "    \n",
    "    country_dict = {\n",
    "        'Country': row['Country'],\n",
    "        'Region': row['Region']\n",
    "    }\n",
    "    \n",
    "    for year in years:\n",
    "        # True jika ada data (non-missing) untuk tahun tersebut\n",
    "        country_dict[year] = pd.notna(chex_row[year].values[0]) if not chex_row.empty else False\n",
    "    \n",
    "    availability.append(country_dict)\n"
   ]
  },
  {
   "cell_type": "code",
   "execution_count": 37,
   "id": "dcffbb68-97a8-47cc-9233-c3bb24bbcc6d",
   "metadata": {},
   "outputs": [],
   "source": [
    "availability_df = pd.DataFrame(availability)"
   ]
  },
  {
   "cell_type": "code",
   "execution_count": 38,
   "id": "67803c0e-d037-45bf-b8e2-c2888abd3fb4",
   "metadata": {},
   "outputs": [
    {
     "name": "stdout",
     "output_type": "stream",
     "text": [
      "     Country        Region  2000  2001  2002  2003  2004  2005  2006  2007  \\\n",
      "0    Andorra  Global North  True  True  True  True  True  True  True  True   \n",
      "1  Australia  Global North  True  True  True  True  True  True  True  True   \n",
      "2    Austria  Global North  True  True  True  True  True  True  True  True   \n",
      "3    Belgium  Global North  True  True  True  True  True  True  True  True   \n",
      "4     Canada  Global North  True  True  True  True  True  True  True  True   \n",
      "\n",
      "   ...  2015  2016  2017  2018  2019  2020  2021  2022   2023   2024  \n",
      "0  ...  True  True  True  True  True  True  True  True   True  False  \n",
      "1  ...  True  True  True  True  True  True  True  True  False  False  \n",
      "2  ...  True  True  True  True  True  True  True  True   True  False  \n",
      "3  ...  True  True  True  True  True  True  True  True  False  False  \n",
      "4  ...  True  True  True  True  True  True  True  True   True  False  \n",
      "\n",
      "[5 rows x 27 columns]\n"
     ]
    }
   ],
   "source": [
    "print(availability_df.head())"
   ]
  },
  {
   "cell_type": "code",
   "execution_count": 39,
   "id": "14593dbd-5c73-43c3-ba30-7e330a161572",
   "metadata": {},
   "outputs": [],
   "source": [
    "availability_df.to_csv('../../data/current_health_expenditure/CHEX_availability_per_year_filtered.csv', index=False)"
   ]
  },
  {
   "cell_type": "code",
   "execution_count": 41,
   "id": "793ffa9d-4caa-40da-82ab-9e57a65656f8",
   "metadata": {},
   "outputs": [],
   "source": [
    "years_to_check = list(map(str, range(2010, 2023)))"
   ]
  },
  {
   "cell_type": "code",
   "execution_count": 49,
   "id": "1d5624c3-fd0c-418f-9412-d207ed28506b",
   "metadata": {},
   "outputs": [],
   "source": [
    "missing_list = []\n",
    "\n",
    "for year, df in missing_per_year.items():\n",
    "    for _, row in df.iterrows():\n",
    "        missing_list.append({\n",
    "            'Country': row['Country'],\n",
    "            'Region': row['Region'],\n",
    "            'Year': year\n",
    "        })"
   ]
  },
  {
   "cell_type": "code",
   "execution_count": 50,
   "id": "b7bcf1aa-8ff2-43f3-b98a-40bcab7983f9",
   "metadata": {},
   "outputs": [
    {
     "name": "stdout",
     "output_type": "stream",
     "text": [
      "[{'Country': 'Liechtenstein', 'Region': 'Global North', 'Year': '2010'}, {'Country': 'Aruba', 'Region': 'Global South', 'Year': '2010'}, {'Country': 'Puerto Rico (US)', 'Region': 'Global South', 'Year': '2010'}, {'Country': 'Liechtenstein', 'Region': 'Global North', 'Year': '2011'}, {'Country': 'Aruba', 'Region': 'Global South', 'Year': '2011'}, {'Country': 'Puerto Rico (US)', 'Region': 'Global South', 'Year': '2011'}, {'Country': 'Liechtenstein', 'Region': 'Global North', 'Year': '2012'}, {'Country': 'Aruba', 'Region': 'Global South', 'Year': '2012'}, {'Country': 'Puerto Rico (US)', 'Region': 'Global South', 'Year': '2012'}, {'Country': 'Liechtenstein', 'Region': 'Global North', 'Year': '2013'}, {'Country': 'Aruba', 'Region': 'Global South', 'Year': '2013'}, {'Country': 'Puerto Rico (US)', 'Region': 'Global South', 'Year': '2013'}, {'Country': 'Liechtenstein', 'Region': 'Global North', 'Year': '2014'}, {'Country': 'Aruba', 'Region': 'Global South', 'Year': '2014'}, {'Country': 'Puerto Rico (US)', 'Region': 'Global South', 'Year': '2014'}, {'Country': 'Liechtenstein', 'Region': 'Global North', 'Year': '2015'}, {'Country': 'Aruba', 'Region': 'Global South', 'Year': '2015'}, {'Country': 'Puerto Rico (US)', 'Region': 'Global South', 'Year': '2015'}, {'Country': 'Liechtenstein', 'Region': 'Global North', 'Year': '2016'}, {'Country': 'Aruba', 'Region': 'Global South', 'Year': '2016'}, {'Country': 'Puerto Rico (US)', 'Region': 'Global South', 'Year': '2016'}, {'Country': 'Liechtenstein', 'Region': 'Global North', 'Year': '2017'}, {'Country': 'Aruba', 'Region': 'Global South', 'Year': '2017'}, {'Country': 'Puerto Rico (US)', 'Region': 'Global South', 'Year': '2017'}, {'Country': 'Liechtenstein', 'Region': 'Global North', 'Year': '2018'}, {'Country': 'Aruba', 'Region': 'Global South', 'Year': '2018'}, {'Country': 'Puerto Rico (US)', 'Region': 'Global South', 'Year': '2018'}, {'Country': 'Liechtenstein', 'Region': 'Global North', 'Year': '2019'}, {'Country': 'Aruba', 'Region': 'Global South', 'Year': '2019'}, {'Country': 'Puerto Rico (US)', 'Region': 'Global South', 'Year': '2019'}, {'Country': 'Liechtenstein', 'Region': 'Global North', 'Year': '2020'}, {'Country': 'Aruba', 'Region': 'Global South', 'Year': '2020'}, {'Country': 'Puerto Rico (US)', 'Region': 'Global South', 'Year': '2020'}, {'Country': 'Liechtenstein', 'Region': 'Global North', 'Year': '2021'}, {'Country': 'Aruba', 'Region': 'Global South', 'Year': '2021'}, {'Country': 'Cuba', 'Region': 'Global South', 'Year': '2021'}, {'Country': 'Puerto Rico (US)', 'Region': 'Global South', 'Year': '2021'}, {'Country': 'Liechtenstein', 'Region': 'Global North', 'Year': '2022'}, {'Country': 'Aruba', 'Region': 'Global South', 'Year': '2022'}, {'Country': 'Cuba', 'Region': 'Global South', 'Year': '2022'}, {'Country': 'Puerto Rico (US)', 'Region': 'Global South', 'Year': '2022'}]\n"
     ]
    }
   ],
   "source": [
    "print(missing_list)"
   ]
  },
  {
   "cell_type": "code",
   "execution_count": 51,
   "id": "b92df665-e2d6-45fa-90ce-cecc938a9f26",
   "metadata": {},
   "outputs": [],
   "source": [
    "missing_df = pd.DataFrame(missing_list)"
   ]
  },
  {
   "cell_type": "code",
   "execution_count": 53,
   "id": "bcacf142-7303-416b-9aff-71a14084a2bf",
   "metadata": {},
   "outputs": [],
   "source": [
    "missing_df.to_csv('../../data/current_health_expenditure/CHEX_missing_2010_2022.csv', index=False)"
   ]
  },
  {
   "cell_type": "code",
   "execution_count": 58,
   "id": "2d65248e-0917-436f-ade9-d6bfae24bfc3",
   "metadata": {},
   "outputs": [],
   "source": [
    "#check all countries (original data)\n",
    "years = list(map(str, range(2010, 2024))) \n",
    "CHEX_Capita[years] = CHEX_Capita[years].apply(pd.to_numeric, errors='coerce')"
   ]
  },
  {
   "cell_type": "code",
   "execution_count": 66,
   "id": "1a7ff633-8d0c-4c53-bd21-6b645ef4b34a",
   "metadata": {},
   "outputs": [],
   "source": [
    "CHEX_Capita['Missing_Years'] = CHEX_Capita[years].isna().sum(axis=1)"
   ]
  },
  {
   "cell_type": "code",
   "execution_count": 67,
   "id": "799b7c5c-79a1-4ca9-af4d-9f8ce8d9bcc8",
   "metadata": {},
   "outputs": [],
   "source": [
    "complete_countries = CHEX_Capita[CHEX_Capita['Missing_Years'] == 0][['Country Name'] + years]"
   ]
  },
  {
   "cell_type": "code",
   "execution_count": 57,
   "id": "bb66da9b-2275-47b8-ab6f-ef60d54121a8",
   "metadata": {},
   "outputs": [],
   "source": [
    "complete_countries.to_csv('../../data/current_health_expenditure/CHEXdata_available.csv', index=False)"
   ]
  },
  {
   "cell_type": "code",
   "execution_count": 68,
   "id": "80d38490-9985-465f-af49-2f5fed80c5ae",
   "metadata": {},
   "outputs": [
    {
     "name": "stdout",
     "output_type": "stream",
     "text": [
      "       Country Name         2010         2011         2012         2013  \\\n",
      "6           Andorra  3277.785156  3550.908203  2785.188965  2887.025879   \n",
      "14          Austria  4800.793457  5167.817871  4966.095703  5235.341309   \n",
      "35           Canada  5062.482910  5401.615234  5520.622070  5462.156738   \n",
      "39            Chile   861.724365   984.448608  1070.512939  1171.770386   \n",
      "45         Colombia   452.442810   501.844208   547.007324   580.964539   \n",
      "54          Czechia  1509.447266  1649.159058  1509.775269  1508.799072   \n",
      "55          Germany  4611.421875  5037.491699  4765.678711  5100.152344   \n",
      "58          Denmark  6171.285156  6438.212402  6168.339355  6334.415527   \n",
      "76             Fiji   127.656036   140.937042   153.565628   158.518066   \n",
      "81   United Kingdom  3892.380127  4140.362305  4217.247559  4348.286621   \n",
      "101         Hungary   983.110840  1063.432373   961.138367   990.631165   \n",
      "114         Iceland  3614.038330  3937.315918  3784.383789  4095.676270   \n",
      "116           Italy  3217.682861  3391.989258  3086.303223  3149.242676   \n",
      "126     Korea, Rep.  1413.152100  1562.213135  1591.780396  1727.566162   \n",
      "143       Lithuania   805.224487   925.471619   896.937073   958.927185   \n",
      "144      Luxembourg  7459.835449  7174.739258  6029.474609  6356.644531   \n",
      "187     Philippines    89.351669    95.957161   109.214935   118.874321   \n",
      "190          Poland   809.199402   866.094666   815.141846   878.088379   \n",
      "194        Portugal  2259.303711  2255.969238  1980.018677  2030.630127   \n",
      "222        Slovenia  2017.146606  2147.805176  1974.854004  2055.381348   \n",
      "223          Sweden  4416.145508  6351.216797  6254.442871  6696.872559   \n",
      "\n",
      "            2014         2015         2016         2017         2018  \\\n",
      "6    3001.196045  2672.264648  2769.152832  2876.178711  3158.136475   \n",
      "14   5393.602051  4612.823730  4709.875977  4938.920410  5337.218262   \n",
      "35   5212.008789  4660.798340  4649.121094  4899.253906  5062.384766   \n",
      "39   1138.661133  1122.133789  1167.893066  1353.692749  1430.702637   \n",
      "45    588.294495   470.099823   448.845886   497.540161   519.822021   \n",
      "54   1512.593262  1308.801392  1374.900513  1516.750122  1750.811890   \n",
      "55   5309.154785  4627.275879  4746.775391  5065.431641  5507.676758   \n",
      "58   6466.897949  5531.878906  5624.328613  5834.020508  6232.721680   \n",
      "76    178.311691   169.475189   175.916351   185.696457   249.860229   \n",
      "81   4716.302246  4440.738281  4016.639160  3907.822266  4219.486328   \n",
      "101  1006.156494   870.519409   914.193237   985.071960  1080.447754   \n",
      "114  4522.905762  4303.841797  5053.517578  5992.053223  6280.038574   \n",
      "116  3154.275879  2675.671631  2699.732910  2809.721436  3002.761230   \n",
      "126  1909.915039  1933.617798  2015.132080  2221.751465  2493.335693   \n",
      "143  1021.232971   920.199768   988.527954  1078.171387  1249.031006   \n",
      "144  6547.034668  5421.932129  5475.139648  5713.118652  6227.083984   \n",
      "187   106.162933   113.434280   118.059814   120.322594   125.277168   \n",
      "190   911.298157   803.959656   816.086182   909.578186   978.735657   \n",
      "194  2059.926514  1790.534058  1875.242188  1998.064697  2216.306641   \n",
      "222  2062.384766  1775.860718  1838.654053  1925.034668  2169.578857   \n",
      "223  6605.911621  5598.681641  5680.726074  5837.770996  6005.065918   \n",
      "\n",
      "            2019         2020         2021         2022         2023  \n",
      "6    3021.432617  3282.817383  3535.989746  3192.315674  3654.074707  \n",
      "14   5263.390625  5531.023438  6520.490723  5851.962402  6208.644531  \n",
      "35   5103.841309  5649.169434  6483.376953  6255.027832  6112.019531  \n",
      "39   1348.994019  1270.978149  1576.692871  1547.289673  1714.892700  \n",
      "45    503.534851   464.977783   561.116272   505.508057   534.437134  \n",
      "54   1805.440308  2106.280273  2538.033447  2431.084961  2609.240723  \n",
      "55   5488.539551  5932.200195  6638.208008  6182.343750  6232.591309  \n",
      "58   6058.830078  6530.475098  7465.772949  6456.083984  6432.371582  \n",
      "76    254.830475   256.259674   331.584137   217.150681   212.886978  \n",
      "81   4258.634766  4816.152832  5612.049316  5035.617188  5366.776855  \n",
      "101  1054.280762  1172.839722  1381.621094  1224.433838  1407.487305  \n",
      "114  5912.009766  5692.891113  6722.421875  6851.629395  7196.909180  \n",
      "116  2910.646729  3062.098389  3399.857666  3134.680664  3228.435059  \n",
      "126  2592.478516  2649.334229  3141.522461  3049.671631  3269.703857  \n",
      "143  1369.979492  1520.392212  1854.280518  1829.663208  1988.946655  \n",
      "144  6221.738770  6785.862305  7632.572754  7022.626953  7504.584961  \n",
      "187   141.692535   166.612183   208.192276   182.934296   194.056152  \n",
      "190  1014.038208  1025.984863  1183.302368  1193.130615  1543.712402  \n",
      "194  2221.731201  2346.330811  2760.165039  2580.756348  2743.577393  \n",
      "222  2219.097900  2417.208740  2779.565918  2737.849365  3033.321045  \n",
      "223  5652.989746  6003.093750  6842.460449  5943.361328  6152.333008  \n"
     ]
    }
   ],
   "source": [
    "print(complete_countries)"
   ]
  },
  {
   "cell_type": "code",
   "execution_count": 71,
   "id": "04b410a0-0dec-4339-93af-bf4e924e4928",
   "metadata": {},
   "outputs": [
    {
     "name": "stdout",
     "output_type": "stream",
     "text": [
      "Countries with complete data from 2010–2022 (234 countries):\n",
      "                    Country Name  2010  2011  2012  2013  2014  2015  2016  \\\n",
      "1    Africa Eastern and Southern  True  True  True  True  True  True  True   \n",
      "2                    Afghanistan  True  True  True  True  True  True  True   \n",
      "3     Africa Western and Central  True  True  True  True  True  True  True   \n",
      "4                         Angola  True  True  True  True  True  True  True   \n",
      "5                        Albania  True  True  True  True  True  True  True   \n",
      "..                           ...   ...   ...   ...   ...   ...   ...   ...   \n",
      "260                        Samoa  True  True  True  True  True  True  True   \n",
      "262                  Yemen, Rep.  True  True  True  True  True  True  True   \n",
      "263                 South Africa  True  True  True  True  True  True  True   \n",
      "264                       Zambia  True  True  True  True  True  True  True   \n",
      "265                     Zimbabwe  True  True  True  True  True  True  True   \n",
      "\n",
      "     2017  2018  2019  2020  2021  2022  \n",
      "1    True  True  True  True  True  True  \n",
      "2    True  True  True  True  True  True  \n",
      "3    True  True  True  True  True  True  \n",
      "4    True  True  True  True  True  True  \n",
      "5    True  True  True  True  True  True  \n",
      "..    ...   ...   ...   ...   ...   ...  \n",
      "260  True  True  True  True  True  True  \n",
      "262  True  True  True  True  True  True  \n",
      "263  True  True  True  True  True  True  \n",
      "264  True  True  True  True  True  True  \n",
      "265  True  True  True  True  True  True  \n",
      "\n",
      "[234 rows x 14 columns]\n"
     ]
    }
   ],
   "source": [
    "import pandas as pd\n",
    "\n",
    "CHEX_Capita = pd.read_csv('../../data/current_health_expenditure/CHEX.csv', skiprows=4)\n",
    "\n",
    "years = list(map(str, range(2010, 2023)))  # 2010-2022\n",
    "\n",
    "CHEX_Capita[years] = CHEX_Capita[years].apply(pd.to_numeric, errors='coerce')\n",
    "\n",
    "for year in years:\n",
    "    CHEX_Capita[year] = CHEX_Capita[year].notna()\n",
    "\n",
    "subset = CHEX_Capita[['Country Name'] + years]\n",
    "\n",
    "# Filter countries that have complete data for 2010–2022\n",
    "complete_2010_2022 = subset[subset[years].all(axis=1)]\n",
    "\n",
    "# Display the results\n",
    "print(f\"Countries with complete data from 2010–2022 ({len(complete_2010_2022)} countries):\")\n",
    "print(complete_2010_2022[['Country Name'] + years])\n",
    "\n",
    "# Optional: export to CSV\n",
    "complete_2010_2022.to_csv('../../data/current_health_expenditure/CHEX_complete_2010_2022.csv', index=False)"
   ]
  },
  {
   "cell_type": "code",
   "execution_count": null,
   "id": "a0f6bf79-3b3d-4377-9d7d-f65c7c771412",
   "metadata": {},
   "outputs": [],
   "source": []
  }
 ],
 "metadata": {
  "kernelspec": {
   "display_name": "Python 3 (ipykernel)",
   "language": "python",
   "name": "python3"
  },
  "language_info": {
   "codemirror_mode": {
    "name": "ipython",
    "version": 3
   },
   "file_extension": ".py",
   "mimetype": "text/x-python",
   "name": "python",
   "nbconvert_exporter": "python",
   "pygments_lexer": "ipython3",
   "version": "3.12.11"
  }
 },
 "nbformat": 4,
 "nbformat_minor": 5
}
