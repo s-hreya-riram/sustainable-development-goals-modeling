{
 "cells": [
  {
   "cell_type": "markdown",
   "id": "db10bbf7",
   "metadata": {},
   "source": [
    "## Fixed Effects Model\n",
    "\n",
    "Fixed Effects Model assumes that patterns within each country are unique and do not generalize across countries. It controls for all time-invariant differences between the countries, so the estimated coefficients of the fixed-effects models cannot be biased because of omitted time-invariant characteristics. This is useful in our case as there are many unobserved country-specific factors (like culture, geography, etc.) that could influence child mortality but are hard to measure or include in the model."
   ]
  },
  {
   "cell_type": "code",
   "execution_count": 178,
   "id": "a726de4f",
   "metadata": {},
   "outputs": [
    {
     "data": {
      "text/html": [
       "<div>\n",
       "<style scoped>\n",
       "    .dataframe tbody tr th:only-of-type {\n",
       "        vertical-align: middle;\n",
       "    }\n",
       "\n",
       "    .dataframe tbody tr th {\n",
       "        vertical-align: top;\n",
       "    }\n",
       "\n",
       "    .dataframe thead th {\n",
       "        text-align: right;\n",
       "    }\n",
       "</style>\n",
       "<table border=\"1\" class=\"dataframe\">\n",
       "  <thead>\n",
       "    <tr style=\"text-align: right;\">\n",
       "      <th></th>\n",
       "      <th></th>\n",
       "      <th>Income classification</th>\n",
       "      <th>log_gdp_per_capita</th>\n",
       "      <th>log_population_density</th>\n",
       "      <th>log_reflected_secondary_education</th>\n",
       "      <th>log_reflected_dpt3_immunization</th>\n",
       "      <th>logit_water_services</th>\n",
       "      <th>sqrt_health_expenditure</th>\n",
       "      <th>boxcox_mortality</th>\n",
       "      <th>Income_High</th>\n",
       "    </tr>\n",
       "    <tr>\n",
       "      <th>Country Name</th>\n",
       "      <th>Year</th>\n",
       "      <th></th>\n",
       "      <th></th>\n",
       "      <th></th>\n",
       "      <th></th>\n",
       "      <th></th>\n",
       "      <th></th>\n",
       "      <th></th>\n",
       "      <th></th>\n",
       "      <th></th>\n",
       "    </tr>\n",
       "  </thead>\n",
       "  <tbody>\n",
       "    <tr>\n",
       "      <th rowspan=\"5\" valign=\"top\">Afghanistan</th>\n",
       "      <th>2000</th>\n",
       "      <td>Low</td>\n",
       "      <td>-2.130831</td>\n",
       "      <td>-0.764510</td>\n",
       "      <td>5.763213</td>\n",
       "      <td>2.589520</td>\n",
       "      <td>-1.498660</td>\n",
       "      <td>1.312996</td>\n",
       "      <td>1.742088</td>\n",
       "      <td>False</td>\n",
       "    </tr>\n",
       "    <tr>\n",
       "      <th>2001</th>\n",
       "      <td>Low</td>\n",
       "      <td>-2.227010</td>\n",
       "      <td>-0.758326</td>\n",
       "      <td>5.763213</td>\n",
       "      <td>2.454421</td>\n",
       "      <td>-1.498205</td>\n",
       "      <td>1.312996</td>\n",
       "      <td>1.724544</td>\n",
       "      <td>False</td>\n",
       "    </tr>\n",
       "    <tr>\n",
       "      <th>2002</th>\n",
       "      <td>Low</td>\n",
       "      <td>-2.047593</td>\n",
       "      <td>-0.715661</td>\n",
       "      <td>4.987701</td>\n",
       "      <td>2.405379</td>\n",
       "      <td>-1.464874</td>\n",
       "      <td>1.178127</td>\n",
       "      <td>1.706271</td>\n",
       "      <td>False</td>\n",
       "    </tr>\n",
       "    <tr>\n",
       "      <th>2003</th>\n",
       "      <td>Low</td>\n",
       "      <td>-2.026689</td>\n",
       "      <td>-0.665656</td>\n",
       "      <td>3.982501</td>\n",
       "      <td>2.318380</td>\n",
       "      <td>-1.433651</td>\n",
       "      <td>1.012177</td>\n",
       "      <td>1.686758</td>\n",
       "      <td>False</td>\n",
       "    </tr>\n",
       "    <tr>\n",
       "      <th>2004</th>\n",
       "      <td>Low</td>\n",
       "      <td>-2.046268</td>\n",
       "      <td>-0.636519</td>\n",
       "      <td>4.685946</td>\n",
       "      <td>2.141738</td>\n",
       "      <td>-1.404027</td>\n",
       "      <td>1.296029</td>\n",
       "      <td>1.665874</td>\n",
       "      <td>False</td>\n",
       "    </tr>\n",
       "  </tbody>\n",
       "</table>\n",
       "</div>"
      ],
      "text/plain": [
       "                  Income classification  log_gdp_per_capita  \\\n",
       "Country Name Year                                             \n",
       "Afghanistan  2000                   Low           -2.130831   \n",
       "             2001                   Low           -2.227010   \n",
       "             2002                   Low           -2.047593   \n",
       "             2003                   Low           -2.026689   \n",
       "             2004                   Low           -2.046268   \n",
       "\n",
       "                   log_population_density  log_reflected_secondary_education  \\\n",
       "Country Name Year                                                              \n",
       "Afghanistan  2000               -0.764510                           5.763213   \n",
       "             2001               -0.758326                           5.763213   \n",
       "             2002               -0.715661                           4.987701   \n",
       "             2003               -0.665656                           3.982501   \n",
       "             2004               -0.636519                           4.685946   \n",
       "\n",
       "                   log_reflected_dpt3_immunization  logit_water_services  \\\n",
       "Country Name Year                                                          \n",
       "Afghanistan  2000                         2.589520             -1.498660   \n",
       "             2001                         2.454421             -1.498205   \n",
       "             2002                         2.405379             -1.464874   \n",
       "             2003                         2.318380             -1.433651   \n",
       "             2004                         2.141738             -1.404027   \n",
       "\n",
       "                   sqrt_health_expenditure  boxcox_mortality  Income_High  \n",
       "Country Name Year                                                          \n",
       "Afghanistan  2000                 1.312996          1.742088        False  \n",
       "             2001                 1.312996          1.724544        False  \n",
       "             2002                 1.178127          1.706271        False  \n",
       "             2003                 1.012177          1.686758        False  \n",
       "             2004                 1.296029          1.665874        False  "
      ]
     },
     "execution_count": 178,
     "metadata": {},
     "output_type": "execute_result"
    }
   ],
   "source": [
    "from linearmodels.panel import PanelOLS\n",
    "import pandas as pd\n",
    "\n",
    "final_df = pd.read_csv('../data/modeling/input_data.csv')\n",
    "final_df = final_df.set_index(['Country Name', 'Year'])\n",
    "\n",
    "final_df.head()"
   ]
  },
  {
   "cell_type": "code",
   "execution_count": 179,
   "id": "aba5a57d",
   "metadata": {},
   "outputs": [
    {
     "name": "stdout",
     "output_type": "stream",
     "text": [
      "                          PanelOLS Estimation Summary                           \n",
      "================================================================================\n",
      "Dep. Variable:       boxcox_mortality   R-squared:                        0.1477\n",
      "Estimator:                   PanelOLS   R-squared (Between):              0.1500\n",
      "No. Observations:                1760   R-squared (Within):               0.0494\n",
      "Date:                Tue, Oct 14 2025   R-squared (Overall):              0.1447\n",
      "Time:                        21:53:33   Log-likelihood                    1456.5\n",
      "Cov. Estimator:             Clustered                                           \n",
      "                                        F-statistic:                      40.741\n",
      "Entities:                          88   P-value                           0.0000\n",
      "Avg Obs:                       20.000   Distribution:                  F(7,1646)\n",
      "Min Obs:                       20.000                                           \n",
      "Max Obs:                       20.000   F-statistic (robust):             2.5974\n",
      "                                        P-value                           0.0115\n",
      "Time periods:                      20   Distribution:                  F(7,1646)\n",
      "Avg Obs:                       88.000                                           \n",
      "Min Obs:                       88.000                                           \n",
      "Max Obs:                       88.000                                           \n",
      "                                                                                \n",
      "                                         Parameter Estimates                                         \n",
      "=====================================================================================================\n",
      "                                   Parameter  Std. Err.     T-stat    P-value    Lower CI    Upper CI\n",
      "-----------------------------------------------------------------------------------------------------\n",
      "Intercept                             0.0840     0.0390     2.1566     0.0312      0.0076      0.1605\n",
      "log_gdp_per_capita                   -0.0695     0.0991    -0.7013     0.4832     -0.2639      0.1249\n",
      "sqrt_health_expenditure              -0.0081     0.0241    -0.3373     0.7359     -0.0554      0.0392\n",
      "log_reflected_dpt3_immunization       0.0103     0.0094     1.0911     0.2754     -0.0082      0.0287\n",
      "log_reflected_secondary_education    -0.0181     0.0238    -0.7587     0.4481     -0.0648      0.0286\n",
      "logit_water_services                 -0.0488     0.0672    -0.7260     0.4679     -0.1805      0.0830\n",
      "log_population_density                0.4006     0.1588     2.5221     0.0118      0.0890      0.7121\n",
      "log_gdp_per_capita:Income_High       -0.2236     0.1037    -2.1566     0.0312     -0.4270     -0.0202\n",
      "=====================================================================================================\n",
      "\n",
      "F-test for Poolability: 177.68\n",
      "P-value: 0.0000\n",
      "Distribution: F(106,1646)\n",
      "\n",
      "Included effects: Entity, Time\n"
     ]
    }
   ],
   "source": [
    "\n",
    "formula = \"\"\"\n",
    "boxcox_mortality ~ 1 + log_gdp_per_capita\n",
    "+ log_gdp_per_capita : Income_High\n",
    "+ sqrt_health_expenditure + log_reflected_dpt3_immunization\n",
    "+ log_reflected_secondary_education + logit_water_services\n",
    "+ log_population_density\n",
    "+ EntityEffects + TimeEffects\n",
    "\"\"\"\n",
    "\n",
    "fe_model = PanelOLS.from_formula(formula, data=final_df)\n",
    "results = fe_model.fit(cov_type='clustered', cluster_entity=True)\n",
    "print(results.summary)"
   ]
  },
  {
   "cell_type": "markdown",
   "id": "07a350e4",
   "metadata": {},
   "source": [
    "Since the p-value corresponding to the robust f-statistic <0.05, we have strong evidence that, collectively, the explanatory variables in the model (including GDP, its interactions, and the control variables) have a statistically significant effect on child mortality, after controlling for country-specific and year-specific fixed effects."
   ]
  },
  {
   "cell_type": "markdown",
   "id": "d4b5ed85",
   "metadata": {},
   "source": [
    "## Random Effects Model\n",
    "\n",
    "Random Effects Model assumes that individual country effects are uncorrelated with the explanatory variables. This allows for the inclusion of time-invariant variables, which is not possible in fixed effects models. This is useful in our case as some country-specific factors that influence child mortality might be constant over time (like geography) and we want to include them in the model."
   ]
  },
  {
   "cell_type": "code",
   "execution_count": 180,
   "id": "f5326fe7",
   "metadata": {},
   "outputs": [
    {
     "name": "stdout",
     "output_type": "stream",
     "text": [
      "                        RandomEffects Estimation Summary                        \n",
      "================================================================================\n",
      "Dep. Variable:       boxcox_mortality   R-squared:                        0.6448\n",
      "Estimator:              RandomEffects   R-squared (Between):              0.7908\n",
      "No. Observations:                1760   R-squared (Within):               0.6227\n",
      "Date:                Tue, Oct 14 2025   R-squared (Overall):              0.7818\n",
      "Time:                        21:53:33   Log-likelihood                    869.33\n",
      "Cov. Estimator:             Clustered                                           \n",
      "                                        F-statistic:                      454.34\n",
      "Entities:                          88   P-value                           0.0000\n",
      "Avg Obs:                       20.000   Distribution:                  F(7,1752)\n",
      "Min Obs:                       20.000                                           \n",
      "Max Obs:                       20.000   F-statistic (robust):             362.16\n",
      "                                        P-value                           0.0000\n",
      "Time periods:                      20   Distribution:                  F(7,1752)\n",
      "Avg Obs:                       88.000                                           \n",
      "Min Obs:                       88.000                                           \n",
      "Max Obs:                       88.000                                           \n",
      "                                                                                \n",
      "                                         Parameter Estimates                                         \n",
      "=====================================================================================================\n",
      "                                   Parameter  Std. Err.     T-stat    P-value    Lower CI    Upper CI\n",
      "-----------------------------------------------------------------------------------------------------\n",
      "Intercept                             0.1282     0.0396     3.2371     0.0012      0.0505      0.2058\n",
      "log_gdp_per_capita                   -0.7605     0.0307    -24.744     0.0000     -0.8207     -0.7002\n",
      "sqrt_health_expenditure              -0.1348     0.0127    -10.597     0.0000     -0.1597     -0.1098\n",
      "log_reflected_dpt3_immunization       0.0012     0.0072     0.1623     0.8711     -0.0130      0.0154\n",
      "log_reflected_secondary_education    -0.0667     0.0115    -5.8224     0.0000     -0.0892     -0.0442\n",
      "logit_water_services                 -0.1148     0.0277    -4.1425     0.0000     -0.1692     -0.0605\n",
      "log_population_density               -0.1879     0.0294    -6.3854     0.0000     -0.2457     -0.1302\n",
      "log_gdp_per_capita:Income_High       -0.3410     0.0371    -9.1882     0.0000     -0.4138     -0.2682\n",
      "=====================================================================================================\n"
     ]
    }
   ],
   "source": [
    "from linearmodels import RandomEffects\n",
    "\n",
    "formula = \"\"\"\n",
    "boxcox_mortality ~ 1 + log_gdp_per_capita\n",
    "+ log_gdp_per_capita : Income_High\n",
    "+ sqrt_health_expenditure + log_reflected_dpt3_immunization\n",
    "+ log_reflected_secondary_education + logit_water_services\n",
    "+ log_population_density\n",
    "+ TimeEffects\n",
    "\"\"\"\n",
    "\n",
    "re_model = RandomEffects.from_formula(formula, data=final_df)\n",
    "results = re_model.fit(cov_type='clustered')\n",
    "print(results.summary)"
   ]
  },
  {
   "cell_type": "code",
   "execution_count": 181,
   "id": "57570414",
   "metadata": {},
   "outputs": [
    {
     "name": "stdout",
     "output_type": "stream",
     "text": [
      "                                Model Comparison                               \n",
      "===============================================================================\n",
      "                                             Fixed Effects       Random Effects\n",
      "-------------------------------------------------------------------------------\n",
      "Dep. Variable                             boxcox_mortality     boxcox_mortality\n",
      "Estimator                                         PanelOLS        RandomEffects\n",
      "No. Observations                                      1760                 1760\n",
      "Cov. Est.                                        Clustered            Clustered\n",
      "R-squared                                           0.1477               0.6448\n",
      "R-Squared (Within)                                  0.0494               0.6227\n",
      "R-Squared (Between)                                 0.1500               0.7908\n",
      "R-Squared (Overall)                                 0.1447               0.7818\n",
      "F-statistic                                         40.741               454.34\n",
      "P-value (F-stat)                                    0.0000               0.0000\n",
      "===================================     ==================   ==================\n",
      "Intercept                                           0.0840               0.1282\n",
      "                                                  (2.1566)             (3.2371)\n",
      "log_gdp_per_capita                                 -0.0695              -0.7605\n",
      "                                                 (-0.7013)            (-24.744)\n",
      "sqrt_health_expenditure                            -0.0081              -0.1348\n",
      "                                                 (-0.3373)            (-10.597)\n",
      "log_reflected_dpt3_immunization                     0.0103               0.0012\n",
      "                                                  (1.0911)             (0.1623)\n",
      "log_reflected_secondary_education                  -0.0181              -0.0667\n",
      "                                                 (-0.7587)            (-5.8224)\n",
      "logit_water_services                               -0.0488              -0.1148\n",
      "                                                 (-0.7260)            (-4.1425)\n",
      "log_population_density                              0.4006              -0.1879\n",
      "                                                  (2.5221)            (-6.3854)\n",
      "log_gdp_per_capita:Income_High                     -0.2236              -0.3410\n",
      "                                                 (-2.1566)            (-9.1882)\n",
      "===================================== ==================== ====================\n",
      "Effects                                             Entity                     \n",
      "                                                      Time                     \n",
      "-------------------------------------------------------------------------------\n",
      "\n",
      "T-stats reported in parentheses\n"
     ]
    }
   ],
   "source": [
    "from linearmodels.panel import compare\n",
    "\n",
    "# Compare the models using Hausman test\n",
    "comparison = compare({'Fixed Effects': fe_model.fit(cov_type='clustered', cluster_entity=True),\n",
    "                      'Random Effects': re_model.fit(cov_type='clustered')})\n",
    "print(comparison)"
   ]
  },
  {
   "cell_type": "markdown",
   "id": "4a151fa1",
   "metadata": {},
   "source": [
    "## Hausman Test\n",
    "\n",
    "Below we compare the fixed effects and random effects models using Hausman test to see which is more suitable to use"
   ]
  },
  {
   "cell_type": "code",
   "execution_count": 182,
   "id": "fe2a3d4c",
   "metadata": {},
   "outputs": [
    {
     "name": "stdout",
     "output_type": "stream",
     "text": [
      "Hausman test statistic: 84.3264\n",
      "Degrees of freedom: 7\n",
      "P-value: 0.0000\n"
     ]
    }
   ],
   "source": [
    "import numpy as np\n",
    "from scipy import stats\n",
    "\n",
    "# 1️⃣ Fit models once\n",
    "fe_results = fe_model.fit(cov_type='clustered', cluster_entity=True)\n",
    "re_results = re_model.fit(cov_type='clustered')\n",
    "\n",
    "# 2️⃣ Select common regressors (exclude EntityEffects/TimeEffects)\n",
    "common_vars = ['log_gdp_per_capita', 'log_gdp_per_capita:Income_High', \n",
    "               'sqrt_health_expenditure', 'log_reflected_dpt3_immunization',\n",
    "               'log_reflected_secondary_education', 'logit_water_services', 'log_population_density']\n",
    "\n",
    "b_fe = fe_results.params[common_vars]\n",
    "b_re = re_results.params[common_vars]\n",
    "\n",
    "V_fe = fe_results.cov.loc[common_vars, common_vars]\n",
    "V_re = re_results.cov.loc[common_vars, common_vars]\n",
    "\n",
    "# 3️⃣ Hausman statistic\n",
    "diff = b_fe - b_re\n",
    "V_diff = V_fe - V_re\n",
    "\n",
    "# Use pseudo-inverse in case V_diff is singular\n",
    "H = diff.values @ np.linalg.pinv(V_diff.values) @ diff.values\n",
    "df = len(diff)\n",
    "p_value = 1 - stats.chi2.cdf(H, df)\n",
    "\n",
    "print(f\"Hausman test statistic: {H:.4f}\")\n",
    "print(f\"Degrees of freedom: {df}\")\n",
    "print(f\"P-value: {p_value:.4f}\")\n"
   ]
  },
  {
   "cell_type": "markdown",
   "id": "1f7cdeb7",
   "metadata": {},
   "source": [
    "Since the Hausman test statistic is fairly high (84.3264), we can reject Random Effects in favor of Fixed Effects.\n",
    "Since the p-value is 0.0000 (less than 0.05), we have strong evidence that the Fixed Effects model is more appropriate than the Random Effects model for our data."
   ]
  },
  {
   "cell_type": "markdown",
   "id": "5e5d17c8",
   "metadata": {},
   "source": [
    "## Adding more interactions to the Fixed Effects Model"
   ]
  },
  {
   "cell_type": "code",
   "execution_count": 183,
   "id": "b080fa52",
   "metadata": {},
   "outputs": [
    {
     "name": "stdout",
     "output_type": "stream",
     "text": [
      "                          PanelOLS Estimation Summary                           \n",
      "================================================================================\n",
      "Dep. Variable:       boxcox_mortality   R-squared:                        0.1755\n",
      "Estimator:                   PanelOLS   R-squared (Between):              0.2222\n",
      "No. Observations:                1760   R-squared (Within):               0.0847\n",
      "Date:                Tue, Oct 14 2025   R-squared (Overall):              0.2149\n",
      "Time:                        21:53:33   Log-likelihood                    1485.7\n",
      "Cov. Estimator:             Clustered                                           \n",
      "                                        F-statistic:                      29.113\n",
      "Entities:                          88   P-value                           0.0000\n",
      "Avg Obs:                       20.000   Distribution:                 F(12,1641)\n",
      "Min Obs:                       20.000                                           \n",
      "Max Obs:                       20.000   F-statistic (robust):             3.0007\n",
      "                                        P-value                           0.0004\n",
      "Time periods:                      20   Distribution:                 F(12,1641)\n",
      "Avg Obs:                       88.000                                           \n",
      "Min Obs:                       88.000                                           \n",
      "Max Obs:                       88.000                                           \n",
      "                                                                                \n",
      "                                                    Parameter Estimates                                                     \n",
      "============================================================================================================================\n",
      "                                                          Parameter  Std. Err.     T-stat    P-value    Lower CI    Upper CI\n",
      "----------------------------------------------------------------------------------------------------------------------------\n",
      "Intercept                                                    0.1294     0.0445     2.9043     0.0037      0.0420      0.2168\n",
      "log_gdp_per_capita                                          -0.1162     0.0970    -1.1970     0.2315     -0.3065      0.0742\n",
      "sqrt_health_expenditure                                      0.0143     0.0233     0.6145     0.5390     -0.0314      0.0601\n",
      "log_reflected_dpt3_immunization                              0.0108     0.0128     0.8501     0.3954     -0.0142      0.0359\n",
      "log_reflected_secondary_education                           -0.0048     0.0250    -0.1901     0.8492     -0.0538      0.0443\n",
      "log_population_density                                       0.3713     0.1545     2.4030     0.0164      0.0682      0.6744\n",
      "log_gdp_per_capita:Income_High                              -0.2702     0.1135    -2.3799     0.0174     -0.4928     -0.0475\n",
      "sqrt_health_expenditure:log_population_density              -0.0060     0.0267    -0.2245     0.8224     -0.0583      0.0463\n",
      "sqrt_health_expenditure:Income_High                         -0.0786     0.0430    -1.8290     0.0676     -0.1629      0.0057\n",
      "log_reflected_dpt3_immunization:Income_High                 -0.0177     0.0286    -0.6191     0.5360     -0.0739      0.0384\n",
      "log_reflected_dpt3_immunization:log_population_density       0.0043     0.0087     0.4889     0.6250     -0.0129      0.0214\n",
      "log_reflected_secondary_education:log_population_density     0.0185     0.0200     0.9267     0.3542     -0.0207      0.0578\n",
      "logit_water_services:log_population_density                 -0.0581     0.0381    -1.5226     0.1280     -0.1329      0.0167\n",
      "============================================================================================================================\n",
      "\n",
      "F-test for Poolability: 159.40\n",
      "P-value: 0.0000\n",
      "Distribution: F(106,1641)\n",
      "\n",
      "Included effects: Entity, Time\n"
     ]
    }
   ],
   "source": [
    "\n",
    "formula = \"\"\"\n",
    "boxcox_mortality ~ 1 + log_gdp_per_capita\n",
    "+ log_gdp_per_capita : Income_High\n",
    "+ sqrt_health_expenditure \n",
    "+ sqrt_health_expenditure : log_population_density\n",
    "+ sqrt_health_expenditure : Income_High\n",
    "+ log_reflected_dpt3_immunization\n",
    "+ log_reflected_dpt3_immunization : Income_High\n",
    "+ log_reflected_dpt3_immunization : log_population_density\n",
    "+ log_reflected_secondary_education\n",
    "+ log_reflected_secondary_education : log_population_density\n",
    "+ logit_water_services : log_population_density\n",
    "+ log_population_density\n",
    "+ EntityEffects + TimeEffects\n",
    "\"\"\"\n",
    "\n",
    "fe_model_version_2 = PanelOLS.from_formula(formula, data=final_df)\n",
    "results = fe_model_version_2.fit(cov_type='clustered', cluster_entity=True)\n",
    "print(results.summary)"
   ]
  },
  {
   "cell_type": "markdown",
   "id": "b823bedc",
   "metadata": {},
   "source": [
    "## Mundlak Approach"
   ]
  },
  {
   "cell_type": "code",
   "execution_count": 184,
   "id": "9523dab3",
   "metadata": {},
   "outputs": [],
   "source": [
    "# Assuming 'Country Name' and 'Year' are your panel identifiers\n",
    "panel_vars = ['Country Name', 'Year']\n",
    "df = final_df.sort_values(panel_vars)\n",
    "\n",
    "# Lagged variables (lag 1 year)\n",
    "df['log_gdp_per_capita_lag1'] = df.groupby('Country Name')['log_gdp_per_capita'].shift(1)\n",
    "df['sqrt_health_expenditure_lag1'] = df.groupby('Country Name')['sqrt_health_expenditure'].shift(1)\n",
    "df['log_reflected_dpt3_immunization_lag1'] = df.groupby('Country Name')['log_reflected_dpt3_immunization'].shift(1)\n",
    "df['log_population_density_lag1'] = df.groupby('Country Name')['log_population_density'].shift(1)\n",
    "df['logit_water_services_lag1'] = df.groupby('Country Name')['logit_water_services'].shift(1)"
   ]
  },
  {
   "cell_type": "code",
   "execution_count": 185,
   "id": "9c692744",
   "metadata": {},
   "outputs": [],
   "source": [
    "# Entity means\n",
    "df['log_gdp_mean'] = df.groupby('Country Name')['log_gdp_per_capita'].transform('mean')\n",
    "df['sqrt_health_expenditure_mean'] = df.groupby('Country Name')['sqrt_health_expenditure'].transform('mean')\n",
    "df['log_reflected_dpt3_immunization_mean'] = df.groupby('Country Name')['log_reflected_dpt3_immunization'].transform('mean')\n",
    "df['log_population_density_mean'] = df.groupby('Country Name')['log_population_density'].transform('mean')\n",
    "df['logit_water_services_mean'] = df.groupby('Country Name')['logit_water_services'].transform('mean')"
   ]
  },
  {
   "cell_type": "code",
   "execution_count": 186,
   "id": "f1570b9e",
   "metadata": {},
   "outputs": [
    {
     "name": "stdout",
     "output_type": "stream",
     "text": [
      "                          PanelOLS Estimation Summary                           \n",
      "================================================================================\n",
      "Dep. Variable:       boxcox_mortality   R-squared:                        0.8902\n",
      "Estimator:                   PanelOLS   R-squared (Between):              0.9036\n",
      "No. Observations:                1672   R-squared (Within):               0.2948\n",
      "Date:                Tue, Oct 14 2025   R-squared (Overall):              0.8747\n",
      "Time:                        21:53:33   Log-likelihood                   -497.87\n",
      "Cov. Estimator:             Clustered                                           \n",
      "                                        F-statistic:                      829.15\n",
      "Entities:                          88   P-value                           0.0000\n",
      "Avg Obs:                       19.000   Distribution:                 F(16,1637)\n",
      "Min Obs:                       19.000                                           \n",
      "Max Obs:                       19.000   F-statistic (robust):             69.330\n",
      "                                        P-value                           0.0000\n",
      "Time periods:                      19   Distribution:                 F(16,1637)\n",
      "Avg Obs:                       88.000                                           \n",
      "Min Obs:                       88.000                                           \n",
      "Max Obs:                       88.000                                           \n",
      "                                                                                \n",
      "                                                        Parameter Estimates                                                         \n",
      "====================================================================================================================================\n",
      "                                                                  Parameter  Std. Err.     T-stat    P-value    Lower CI    Upper CI\n",
      "------------------------------------------------------------------------------------------------------------------------------------\n",
      "Intercept                                                            0.0407     0.0545     0.7468     0.4553     -0.0662      0.1476\n",
      "log_gdp_per_capita_lag1                                             -0.2339     0.0949    -2.4649     0.0138     -0.4201     -0.0478\n",
      "sqrt_health_expenditure_lag1                                         0.0185     0.0336     0.5505     0.5821     -0.0474      0.0844\n",
      "log_reflected_dpt3_immunization_lag1                                -0.0511     0.0221    -2.3083     0.0211     -0.0945     -0.0077\n",
      "log_reflected_secondary_education                                   -0.0642     0.0332    -1.9350     0.0532     -0.1292      0.0009\n",
      "logit_water_services_mean                                           -0.1410     0.0878    -1.6047     0.1088     -0.3132      0.0313\n",
      "log_population_density_mean                                         -0.0324     0.0434    -0.7480     0.4546     -0.1175      0.0526\n",
      "log_gdp_mean                                                        -0.3345     0.1150    -2.9079     0.0037     -0.5601     -0.1089\n",
      "sqrt_health_expenditure_mean                                        -0.2138     0.0544    -3.9327     0.0001     -0.3204     -0.1072\n",
      "log_reflected_dpt3_immunization_mean                                 0.1710     0.0582     2.9373     0.0034      0.0568      0.2852\n",
      "log_gdp_per_capita_lag1:Income_High                                 -0.0698     0.0979    -0.7135     0.4756     -0.2618      0.1221\n",
      "sqrt_health_expenditure_lag1:log_population_density_lag1            -0.0164     0.0398    -0.4133     0.6794     -0.0945      0.0616\n",
      "sqrt_health_expenditure_lag1:Income_High                            -0.1822     0.0779    -2.3384     0.0195     -0.3351     -0.0294\n",
      "log_reflected_dpt3_immunization_lag1:Income_High                     0.1331     0.0642     2.0721     0.0384      0.0071      0.2590\n",
      "log_reflected_dpt3_immunization_lag1:log_population_density_lag1     0.0430     0.0325     1.3236     0.1858     -0.0207      0.1068\n",
      "log_reflected_secondary_education:log_population_density_lag1       -0.0104     0.0201    -0.5195     0.6035     -0.0499      0.0290\n",
      "logit_water_services_lag1:log_population_density_lag1                0.1273     0.0433     2.9372     0.0034      0.0423      0.2123\n",
      "====================================================================================================================================\n",
      "\n",
      "F-test for Poolability: 5.5654\n",
      "P-value: 0.0000\n",
      "Distribution: F(18,1637)\n",
      "\n",
      "Included effects: Time\n"
     ]
    },
    {
     "name": "stderr",
     "output_type": "stream",
     "text": [
      "/Users/shreyasriram/sdg-modeling/sustainable-development-goals-modeling/venv/lib/python3.11/site-packages/linearmodels/panel/model.py:1260: MissingValueWarning: \n",
      "Inputs contain missing values. Dropping rows with missing observations.\n",
      "  super().__init__(dependent, exog, weights=weights, check_rank=check_rank)\n"
     ]
    }
   ],
   "source": [
    "formula = \"\"\"\n",
    "boxcox_mortality ~ 1\n",
    "+ log_gdp_per_capita_lag1\n",
    "+ log_gdp_per_capita_lag1 : Income_High\n",
    "+ sqrt_health_expenditure_lag1\n",
    "+ sqrt_health_expenditure_lag1 : log_population_density_lag1\n",
    "+ sqrt_health_expenditure_lag1 : Income_High\n",
    "+ log_reflected_dpt3_immunization_lag1\n",
    "+ log_reflected_dpt3_immunization_lag1 : Income_High\n",
    "+ log_reflected_dpt3_immunization_lag1 : log_population_density_lag1\n",
    "+ log_reflected_secondary_education\n",
    "+ log_reflected_secondary_education : log_population_density_lag1\n",
    "+ logit_water_services_mean\n",
    "+ logit_water_services_lag1 : log_population_density_lag1\n",
    "+ log_population_density_mean\n",
    "+ log_gdp_mean\n",
    "+ sqrt_health_expenditure_mean\n",
    "+ log_reflected_dpt3_immunization_mean\n",
    "+ TimeEffects\n",
    "\"\"\"\n",
    "\n",
    "fe_model_mundlak = PanelOLS.from_formula(formula, data=df)\n",
    "results = fe_model_mundlak.fit(cov_type='clustered', cluster_entity=True)\n",
    "print(results.summary)"
   ]
  },
  {
   "cell_type": "code",
   "execution_count": 187,
   "id": "42a31b16",
   "metadata": {},
   "outputs": [
    {
     "name": "stdout",
     "output_type": "stream",
     "text": [
      "Income_Low slope: -0.234\n",
      "Income_High slope: -0.304\n"
     ]
    }
   ],
   "source": [
    "coef = results.params\n",
    "\n",
    "slope_low = coef['log_gdp_per_capita_lag1']\n",
    "slope_high = slope_low + coef['log_gdp_per_capita_lag1:Income_High']\n",
    "\n",
    "print(f\"Income_Low slope: {slope_low:.3f}\")\n",
    "print(f\"Income_High slope: {slope_high:.3f}\")"
   ]
  },
  {
   "cell_type": "markdown",
   "id": "61c73a26",
   "metadata": {},
   "source": [
    "R^2 (Overall) has jumped from 0.1447 to 0.8747 indicating a much better fit with the Mundlak approach.\n",
    "Mundlak approach is able to account for some of the entity-specific effects better by including lag terms for gdp, health expenditure, and DPT3 immunization\n",
    "along with using their means as additional predictors.\n",
    "\n",
    "However the slopes for low income are much lower than those for high income but the p-value of `log_gdp_per_capita_lag1:Income_High` is over 0.05 so we are not conclusively able to accept or reject the null hypothesis so trying an alternate approach."
   ]
  },
  {
   "cell_type": "markdown",
   "id": "ffec02cd",
   "metadata": {},
   "source": [
    "## Hierarachical panel model"
   ]
  },
  {
   "cell_type": "code",
   "execution_count": 188,
   "id": "2b98e78d",
   "metadata": {},
   "outputs": [
    {
     "name": "stdout",
     "output_type": "stream",
     "text": [
      "1760\n"
     ]
    },
    {
     "name": "stderr",
     "output_type": "stream",
     "text": [
      "/var/folders/yk/c0cfqj715njfdnphhzw8m5p00000gn/T/ipykernel_71775/2235807662.py:10: FutureWarning: The default of observed=False is deprecated and will be changed to True in a future version of pandas. Pass observed=False to retain current behavior or observed=True to adopt the future default and silence this warning.\n",
      "  final_df['log_gdp_per_capita_lag1'] = final_df.groupby('Country Name')['log_gdp_per_capita'].shift(1)\n",
      "/var/folders/yk/c0cfqj715njfdnphhzw8m5p00000gn/T/ipykernel_71775/2235807662.py:11: FutureWarning: The default of observed=False is deprecated and will be changed to True in a future version of pandas. Pass observed=False to retain current behavior or observed=True to adopt the future default and silence this warning.\n",
      "  final_df['sqrt_health_expenditure_lag1'] = final_df.groupby('Country Name')['sqrt_health_expenditure'].shift(1)\n",
      "/var/folders/yk/c0cfqj715njfdnphhzw8m5p00000gn/T/ipykernel_71775/2235807662.py:12: FutureWarning: The default of observed=False is deprecated and will be changed to True in a future version of pandas. Pass observed=False to retain current behavior or observed=True to adopt the future default and silence this warning.\n",
      "  final_df['log_reflected_dpt3_immunization_lag1'] = final_df.groupby('Country Name')['log_reflected_dpt3_immunization'].shift(1)\n",
      "/var/folders/yk/c0cfqj715njfdnphhzw8m5p00000gn/T/ipykernel_71775/2235807662.py:13: FutureWarning: The default of observed=False is deprecated and will be changed to True in a future version of pandas. Pass observed=False to retain current behavior or observed=True to adopt the future default and silence this warning.\n",
      "  final_df['log_population_density_lag1'] = final_df.groupby('Country Name')['log_population_density'].shift(1)\n"
     ]
    }
   ],
   "source": [
    "import pandas as pd\n",
    "import statsmodels.formula.api as smf\n",
    "\n",
    "# Ensure categorical variables are coded properly\n",
    "final_df = pd.read_csv('../data/modeling/input_data.csv')\n",
    "final_df['Income classification'] = final_df['Income classification'].astype('category')\n",
    "final_df['Country Name'] = final_df['Country Name'].astype('category')\n",
    "\n",
    "# Lagged variables (lag 1 year)\n",
    "final_df['log_gdp_per_capita_lag1'] = final_df.groupby('Country Name')['log_gdp_per_capita'].shift(1)\n",
    "final_df['sqrt_health_expenditure_lag1'] = final_df.groupby('Country Name')['sqrt_health_expenditure'].shift(1)\n",
    "final_df['log_reflected_dpt3_immunization_lag1'] = final_df.groupby('Country Name')['log_reflected_dpt3_immunization'].shift(1)\n",
    "final_df['log_population_density_lag1'] = final_df.groupby('Country Name')['log_population_density'].shift(1)\n",
    "print(len(final_df))"
   ]
  },
  {
   "cell_type": "code",
   "execution_count": 189,
   "id": "f9b95add",
   "metadata": {},
   "outputs": [
    {
     "name": "stdout",
     "output_type": "stream",
     "text": [
      "1672\n",
      "                     Mixed Linear Model Regression Results\n",
      "================================================================================\n",
      "Model:                  MixedLM       Dependent Variable:       boxcox_mortality\n",
      "No. Observations:       1672          Method:                   ML              \n",
      "No. Groups:             2             Scale:                    0.1225          \n",
      "Min. group size:        655           Log-Likelihood:           -623.9049       \n",
      "Max. group size:        1017          Converged:                No              \n",
      "Mean group size:        836.0                                                   \n",
      "--------------------------------------------------------------------------------\n",
      "                                     Coef.  Std.Err.    z    P>|z| [0.025 0.975]\n",
      "--------------------------------------------------------------------------------\n",
      "Intercept                            -0.234    0.297  -0.787 0.431 -0.817  0.349\n",
      "log_gdp_per_capita_lag1              -0.425    0.134  -3.183 0.001 -0.687 -0.163\n",
      "sqrt_health_expenditure_lag1         -0.238    0.010 -24.467 0.000 -0.257 -0.219\n",
      "log_reflected_dpt3_immunization_lag1  0.096    0.010   9.712 0.000  0.077  0.115\n",
      "log_reflected_secondary_education    -0.036    0.009  -4.033 0.000 -0.054 -0.019\n",
      "Group Var                             0.178    0.618                            \n",
      "Group x log_gdp_per_capita_lag1 Cov  -0.079    0.258                            \n",
      "log_gdp_per_capita_lag1 Var           0.035    0.105                            \n",
      "================================================================================\n",
      "\n"
     ]
    },
    {
     "name": "stderr",
     "output_type": "stream",
     "text": [
      "/Users/shreyasriram/sdg-modeling/sustainable-development-goals-modeling/venv/lib/python3.11/site-packages/statsmodels/base/model.py:607: ConvergenceWarning: Maximum Likelihood optimization failed to converge. Check mle_retvals\n",
      "  warnings.warn(\"Maximum Likelihood optimization failed to \"\n",
      "/Users/shreyasriram/sdg-modeling/sustainable-development-goals-modeling/venv/lib/python3.11/site-packages/statsmodels/regression/mixed_linear_model.py:2200: ConvergenceWarning: Retrying MixedLM optimization with lbfgs\n",
      "  warnings.warn(\n",
      "/Users/shreyasriram/sdg-modeling/sustainable-development-goals-modeling/venv/lib/python3.11/site-packages/statsmodels/base/model.py:607: ConvergenceWarning: Maximum Likelihood optimization failed to converge. Check mle_retvals\n",
      "  warnings.warn(\"Maximum Likelihood optimization failed to \"\n",
      "/Users/shreyasriram/sdg-modeling/sustainable-development-goals-modeling/venv/lib/python3.11/site-packages/statsmodels/regression/mixed_linear_model.py:2200: ConvergenceWarning: Retrying MixedLM optimization with cg\n",
      "  warnings.warn(\n",
      "/Users/shreyasriram/sdg-modeling/sustainable-development-goals-modeling/venv/lib/python3.11/site-packages/statsmodels/base/model.py:607: ConvergenceWarning: Maximum Likelihood optimization failed to converge. Check mle_retvals\n",
      "  warnings.warn(\"Maximum Likelihood optimization failed to \"\n",
      "/Users/shreyasriram/sdg-modeling/sustainable-development-goals-modeling/venv/lib/python3.11/site-packages/statsmodels/regression/mixed_linear_model.py:2206: ConvergenceWarning: MixedLM optimization failed, trying a different optimizer may help.\n",
      "  warnings.warn(msg, ConvergenceWarning)\n",
      "/Users/shreyasriram/sdg-modeling/sustainable-development-goals-modeling/venv/lib/python3.11/site-packages/statsmodels/regression/mixed_linear_model.py:2218: ConvergenceWarning: Gradient optimization failed, |grad| = 9.764315\n",
      "  warnings.warn(msg, ConvergenceWarning)\n",
      "/Users/shreyasriram/sdg-modeling/sustainable-development-goals-modeling/venv/lib/python3.11/site-packages/statsmodels/regression/mixed_linear_model.py:2261: ConvergenceWarning: The Hessian matrix at the estimated parameter values is not positive definite.\n",
      "  warnings.warn(msg, ConvergenceWarning)\n"
     ]
    }
   ],
   "source": [
    "# Random intercept & slope by Income group\n",
    "formula = \"boxcox_mortality ~ log_gdp_per_capita_lag1 + sqrt_health_expenditure_lag1 + log_reflected_dpt3_immunization_lag1 + log_reflected_secondary_education\"\n",
    "\n",
    "# groups = Income_group allows us to have random effects by income\n",
    "# re_formula = \"1 + log_gdp_per_capita_lag1\" allows GDP slope to vary\n",
    "df_clean = final_df.dropna(subset=[\n",
    "    'log_gdp_per_capita_lag1',\n",
    "    'sqrt_health_expenditure_lag1',\n",
    "    'log_reflected_dpt3_immunization_lag1',\n",
    "    'log_reflected_secondary_education',\n",
    "    'boxcox_mortality',\n",
    "    'Income classification'\n",
    "])\n",
    "print(len(df_clean))\n",
    "\n",
    "model = smf.mixedlm(formula, df_clean, groups=df_clean[\"Income classification\"], re_formula=\"1 + log_gdp_per_capita_lag1\")\n",
    "result = model.fit(reml=False)\n",
    "\n",
    "print(result.summary())"
   ]
  },
  {
   "cell_type": "code",
   "execution_count": 190,
   "id": "31566927",
   "metadata": {},
   "outputs": [
    {
     "name": "stdout",
     "output_type": "stream",
     "text": [
      "Income group: High\n",
      "Group                     -0.375321\n",
      "log_gdp_per_capita_lag1    0.167215\n",
      "dtype: float64\n",
      "Income group: Low\n",
      "Group                      0.375321\n",
      "log_gdp_per_capita_lag1   -0.167215\n",
      "dtype: float64\n"
     ]
    }
   ],
   "source": [
    "# Random effects for each income group\n",
    "re = result.random_effects\n",
    "for group, effects in re.items():\n",
    "    print(f\"Income group: {group}\")\n",
    "    print(effects)\n"
   ]
  },
  {
   "cell_type": "code",
   "execution_count": 191,
   "id": "b8151a38",
   "metadata": {},
   "outputs": [
    {
     "name": "stdout",
     "output_type": "stream",
     "text": [
      "GDP effect by income group:\n",
      "High: -0.258\n",
      "Low: -0.592\n"
     ]
    }
   ],
   "source": [
    "fixed_slope = result.fe_params['log_gdp_per_capita_lag1']\n",
    "\n",
    "group_slopes = {}\n",
    "for group, effects in re.items():\n",
    "    group_slopes[group] = fixed_slope + effects['log_gdp_per_capita_lag1']\n",
    "\n",
    "print(\"GDP effect by income group:\")\n",
    "for group, slope in group_slopes.items():\n",
    "    print(f\"{group}: {slope:.3f}\")\n"
   ]
  },
  {
   "cell_type": "code",
   "execution_count": 192,
   "id": "11c43de1",
   "metadata": {},
   "outputs": [
    {
     "data": {
      "image/png": "[encoded data removed]",
      "text/plain": [
       "<Figure size 800x500 with 1 Axes>"
      ]
     },
     "metadata": {},
     "output_type": "display_data"
    }
   ],
   "source": [
    "import matplotlib.pyplot as plt\n",
    "\n",
    "groups = list(group_slopes.keys())\n",
    "slopes = [group_slopes[g] for g in groups]\n",
    "\n",
    "plt.figure(figsize=(8,5))\n",
    "plt.bar(groups, slopes, color='skyblue')\n",
    "plt.axhline(fixed_slope, color='red', linestyle='--', label='Fixed effect slope')\n",
    "plt.ylabel(\"GDP effect on Box-Cox Mortality\")\n",
    "plt.title(\"GDP-Mortality Slope by Income Group (Mixed Model)\")\n",
    "plt.legend()\n",
    "plt.show()\n"
   ]
  },
  {
   "cell_type": "markdown",
   "id": "3c994c1e",
   "metadata": {},
   "source": [
    "Low income is steeper than the dashed line indicating a stronger mortality reduction per unit increase compared to High income."
   ]
  },
  {
   "cell_type": "markdown",
   "id": "2c41c10a",
   "metadata": {},
   "source": [
    "Calculating the confidence intervals for the slopes for low income and high income"
   ]
  },
  {
   "cell_type": "code",
   "execution_count": 193,
   "id": "cfe57eba",
   "metadata": {},
   "outputs": [
    {
     "name": "stdout",
     "output_type": "stream",
     "text": [
      "High-income slope: -0.425, 95% CI: (np.float64(-0.687128522759432), np.float64(-0.16343451981569634))\n",
      "Low-income slope: -0.592, 95% CI: (np.float64(-1.0451988453836578), np.float64(-0.13979369380550621))\n"
     ]
    }
   ],
   "source": [
    "import numpy as np\n",
    "\n",
    "# Fixed effect slope of GDP\n",
    "beta_gdp = result.params['log_gdp_per_capita_lag1']\n",
    "se_beta = result.bse['log_gdp_per_capita_lag1']\n",
    "\n",
    "# Random effect variance for GDP slope across groups\n",
    "var_gdp_random = result.cov_re.loc['log_gdp_per_capita_lag1', 'log_gdp_per_capita_lag1']\n",
    "\n",
    "# For high-income group , slope = fixed effect\n",
    "high_slope = beta_gdp\n",
    "high_se = se_beta  # SE of fixed effect\n",
    "high_ci = (high_slope - 1.96*high_se, high_slope + 1.96*high_se)\n",
    "\n",
    "# Extract the random effect for low-income group\n",
    "low_group = 'Low'  # Make sure this matches your group label in df_clean\n",
    "low_random = result.random_effects[low_group]['log_gdp_per_capita_lag1']\n",
    "\n",
    "low_slope = beta_gdp + low_random\n",
    "\n",
    "# Standard error approximation: combine fixed and random variances\n",
    "low_se = np.sqrt(se_beta**2 + var_gdp_random)\n",
    "low_ci = (low_slope - 1.96*low_se, low_slope + 1.96*low_se)\n",
    "\n",
    "print(f\"High-income slope: {high_slope:.3f}, 95% CI: {high_ci}\")\n",
    "print(f\"Low-income slope: {low_slope:.3f}, 95% CI: {low_ci}\")\n"
   ]
  },
  {
   "cell_type": "markdown",
   "id": "8896108e",
   "metadata": {},
   "source": [
    "## Scale the predictors back to inputs to quantify the impact in the original scale"
   ]
  },
  {
   "cell_type": "code",
   "execution_count": null,
   "id": "83c4dbbc",
   "metadata": {},
   "outputs": [
    {
     "name": "stdout",
     "output_type": "stream",
     "text": [
      "Low-income: mortality change = -1.00, percent change = -2.6%\n",
      "High-income: mortality change = -0.16, percent change = -3.1%\n"
     ]
    }
   ],
   "source": [
    "import numpy as np\n",
    "\n",
    "# Box-Cox lambda (replace with your actual λ)\n",
    "lambda_bc = -0.0492 # from exploratory_data_analysis.ipynb\n",
    "# Current mortality (can also take mean per income group)\n",
    "mortality_current_low = 37.99   # example: 50 deaths per 1,000\n",
    "mortality_current_high = 5.15  # example: 10 deaths per 1,000\n",
    "\n",
    "gdp_pct_increase = 10 # ballpark figure\n",
    "delta_log_gdp = np.log(1 + gdp_pct_increase/100)\n",
    "\n",
    "# Function to back-transform Box-Cox (if λ != 0)\n",
    "def boxcox_inverse(y_star, lmbda):\n",
    "    if lmbda == 0:\n",
    "        return np.exp(y_star)\n",
    "    else:\n",
    "        return np.power(lmbda * y_star + 1, 1/lmbda)\n",
    " \n",
    "# Step 1: Estimate change in Box-Cox space\n",
    "delta_y_low = slope_low * delta_log_gdp\n",
    "delta_y_high = slope_high * delta_log_gdp\n",
    "\n",
    "# Step 2: Convert current mortality to Box-Cox space\n",
    "def to_boxcox_log(mortality, lmbda):\n",
    "    y = np.log(mortality)\n",
    "    if lmbda == 0:\n",
    "        return y\n",
    "    else:\n",
    "        return (mortality**lmbda - 1)/lmbda\n",
    "\n",
    "y_star_low = to_boxcox_log(mortality_current_low, lambda_bc)\n",
    "y_star_high = to_boxcox_log(mortality_current_high, lambda_bc)\n",
    "\n",
    "# Step 3: Apply delta in Box-Cox space\n",
    "y_star_low_new = y_star_low + delta_y_low\n",
    "y_star_high_new = y_star_high + delta_y_high\n",
    "\n",
    "# Step 4: Back-transform to actual mortality\n",
    "mortality_low_new = boxcox_inverse(y_star_low_new, lambda_bc)\n",
    "mortality_high_new = boxcox_inverse(y_star_high_new, lambda_bc)\n",
    "\n",
    "# Step 5: Compute absolute and percent change\n",
    "abs_change_low = mortality_low_new - mortality_current_low\n",
    "abs_change_high = mortality_high_new - mortality_current_high\n",
    "\n",
    "pct_change_low = abs_change_low / mortality_current_low * 100\n",
    "pct_change_high = abs_change_high / mortality_current_high * 100\n",
    "\n",
    "print(f\"Low-income: mortality change = {abs_change_low:.2f}, percent change = {pct_change_low:.1f}%\")\n",
    "print(f\"High-income: mortality change = {abs_change_high:.2f}, percent change = {pct_change_high:.1f}%\")\n"
   ]
  },
  {
   "cell_type": "markdown",
   "id": "20227a26",
   "metadata": {},
   "source": [
    "The interpretation of the above is that a 10% increase in GDP per capita is associated with ~1.0 fewer child deaths per 1,000 in low-income countries and ~0.16 fewer deaths per 1,000 in high-income countries. \n",
    "\n",
    "This corresponds to ~2.6% reduction in low-income countries and ~3.1% reduction in high-income countries because baseline mortality is lower in high-income countries."
   ]
  },
  {
   "cell_type": "markdown",
   "id": "1d84915b",
   "metadata": {},
   "source": [
    "TODO can calculate confidence intervals for the above values!"
   ]
  }
 ],
 "metadata": {
  "kernelspec": {
   "display_name": "venv",
   "language": "python",
   "name": "python3"
  },
  "language_info": {
   "codemirror_mode": {
    "name": "ipython",
    "version": 3
   },
   "file_extension": ".py",
   "mimetype": "text/x-python",
   "name": "python",
   "nbconvert_exporter": "python",
   "pygments_lexer": "ipython3",
   "version": "3.11.13"
  }
 },
 "nbformat": 4,
 "nbformat_minor": 5
}
