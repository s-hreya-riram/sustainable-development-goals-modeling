{
 "cells": [
  {
   "cell_type": "markdown",
   "id": "db10bbf7",
   "metadata": {},
   "source": [
    "## Fixed Effects Model\n",
    "\n",
    "Fixed Effects Model assumes that patterns within each country are unique and do not generalize across countries. It controls for all time-invariant differences between the countries, so the estimated coefficients of the fixed-effects models cannot be biased because of omitted time-invariant characteristics. This is useful in our case as there are many unobserved country-specific factors (like culture, geography, etc.) that could influence child mortality but are hard to measure or include in the model."
   ]
  },
  {
   "cell_type": "code",
   "execution_count": 242,
   "id": "a726de4f",
   "metadata": {},
   "outputs": [
    {
     "data": {
      "text/html": [
       "<div>\n",
       "<style scoped>\n",
       "    .dataframe tbody tr th:only-of-type {\n",
       "        vertical-align: middle;\n",
       "    }\n",
       "\n",
       "    .dataframe tbody tr th {\n",
       "        vertical-align: top;\n",
       "    }\n",
       "\n",
       "    .dataframe thead th {\n",
       "        text-align: right;\n",
       "    }\n",
       "</style>\n",
       "<table border=\"1\" class=\"dataframe\">\n",
       "  <thead>\n",
       "    <tr style=\"text-align: right;\">\n",
       "      <th></th>\n",
       "      <th></th>\n",
       "      <th>Mortality rate under-5</th>\n",
       "      <th>GDP per capita</th>\n",
       "      <th>Population density (people per sq. km of land area)</th>\n",
       "      <th>Income classification</th>\n",
       "      <th>log_gdp_per_capita</th>\n",
       "      <th>log_population_density</th>\n",
       "      <th>log_mortality_rate_under_5</th>\n",
       "      <th>log_reflected_secondary_education</th>\n",
       "      <th>log_reflected_dpt3_immunization</th>\n",
       "      <th>logit_water_services</th>\n",
       "      <th>sqrt_health_expenditure</th>\n",
       "      <th>boxcox_mortality</th>\n",
       "      <th>Income_High</th>\n",
       "    </tr>\n",
       "    <tr>\n",
       "      <th>Country Name</th>\n",
       "      <th>Year</th>\n",
       "      <th></th>\n",
       "      <th></th>\n",
       "      <th></th>\n",
       "      <th></th>\n",
       "      <th></th>\n",
       "      <th></th>\n",
       "      <th></th>\n",
       "      <th></th>\n",
       "      <th></th>\n",
       "      <th></th>\n",
       "      <th></th>\n",
       "      <th></th>\n",
       "      <th></th>\n",
       "    </tr>\n",
       "  </thead>\n",
       "  <tbody>\n",
       "    <tr>\n",
       "      <th rowspan=\"5\" valign=\"top\">Afghanistan</th>\n",
       "      <th>2000</th>\n",
       "      <td>131.7</td>\n",
       "      <td>1617.826475</td>\n",
       "      <td>30.863847</td>\n",
       "      <td>Low</td>\n",
       "      <td>-2.230818</td>\n",
       "      <td>-0.856783</td>\n",
       "      <td>4.888091</td>\n",
       "      <td>6.024520</td>\n",
       "      <td>2.683084</td>\n",
       "      <td>-1.551486</td>\n",
       "      <td>1.221384</td>\n",
       "      <td>1.758949</td>\n",
       "      <td>False</td>\n",
       "    </tr>\n",
       "    <tr>\n",
       "      <th>2001</th>\n",
       "      <td>127.4</td>\n",
       "      <td>1454.110782</td>\n",
       "      <td>31.099929</td>\n",
       "      <td>Low</td>\n",
       "      <td>-2.327831</td>\n",
       "      <td>-0.850321</td>\n",
       "      <td>4.855150</td>\n",
       "      <td>6.024520</td>\n",
       "      <td>2.545223</td>\n",
       "      <td>-1.551040</td>\n",
       "      <td>1.221384</td>\n",
       "      <td>1.743294</td>\n",
       "      <td>False</td>\n",
       "    </tr>\n",
       "    <tr>\n",
       "      <th>2002</th>\n",
       "      <td>123.1</td>\n",
       "      <td>1774.308743</td>\n",
       "      <td>32.776961</td>\n",
       "      <td>Low</td>\n",
       "      <td>-2.146859</td>\n",
       "      <td>-0.805740</td>\n",
       "      <td>4.821088</td>\n",
       "      <td>5.209860</td>\n",
       "      <td>2.495180</td>\n",
       "      <td>-1.518356</td>\n",
       "      <td>1.065546</td>\n",
       "      <td>1.726970</td>\n",
       "      <td>False</td>\n",
       "    </tr>\n",
       "    <tr>\n",
       "      <th>2003</th>\n",
       "      <td>118.7</td>\n",
       "      <td>1815.928200</td>\n",
       "      <td>34.854344</td>\n",
       "      <td>Low</td>\n",
       "      <td>-2.125774</td>\n",
       "      <td>-0.753491</td>\n",
       "      <td>4.784989</td>\n",
       "      <td>4.153918</td>\n",
       "      <td>2.406403</td>\n",
       "      <td>-1.487741</td>\n",
       "      <td>0.899279</td>\n",
       "      <td>1.709519</td>\n",
       "      <td>False</td>\n",
       "    </tr>\n",
       "    <tr>\n",
       "      <th>2004</th>\n",
       "      <td>114.2</td>\n",
       "      <td>1776.918207</td>\n",
       "      <td>36.123230</td>\n",
       "      <td>Low</td>\n",
       "      <td>-2.145523</td>\n",
       "      <td>-0.723046</td>\n",
       "      <td>4.746670</td>\n",
       "      <td>4.892872</td>\n",
       "      <td>2.226150</td>\n",
       "      <td>-1.458693</td>\n",
       "      <td>1.183673</td>\n",
       "      <td>1.690822</td>\n",
       "      <td>False</td>\n",
       "    </tr>\n",
       "  </tbody>\n",
       "</table>\n",
       "</div>"
      ],
      "text/plain": [
       "                   Mortality rate under-5  GDP per capita  \\\n",
       "Country Name Year                                           \n",
       "Afghanistan  2000                   131.7     1617.826475   \n",
       "             2001                   127.4     1454.110782   \n",
       "             2002                   123.1     1774.308743   \n",
       "             2003                   118.7     1815.928200   \n",
       "             2004                   114.2     1776.918207   \n",
       "\n",
       "                   Population density (people per sq. km of land area)  \\\n",
       "Country Name Year                                                        \n",
       "Afghanistan  2000                                          30.863847     \n",
       "             2001                                          31.099929     \n",
       "             2002                                          32.776961     \n",
       "             2003                                          34.854344     \n",
       "             2004                                          36.123230     \n",
       "\n",
       "                  Income classification  log_gdp_per_capita  \\\n",
       "Country Name Year                                             \n",
       "Afghanistan  2000                   Low           -2.230818   \n",
       "             2001                   Low           -2.327831   \n",
       "             2002                   Low           -2.146859   \n",
       "             2003                   Low           -2.125774   \n",
       "             2004                   Low           -2.145523   \n",
       "\n",
       "                   log_population_density  log_mortality_rate_under_5  \\\n",
       "Country Name Year                                                       \n",
       "Afghanistan  2000               -0.856783                    4.888091   \n",
       "             2001               -0.850321                    4.855150   \n",
       "             2002               -0.805740                    4.821088   \n",
       "             2003               -0.753491                    4.784989   \n",
       "             2004               -0.723046                    4.746670   \n",
       "\n",
       "                   log_reflected_secondary_education  \\\n",
       "Country Name Year                                      \n",
       "Afghanistan  2000                           6.024520   \n",
       "             2001                           6.024520   \n",
       "             2002                           5.209860   \n",
       "             2003                           4.153918   \n",
       "             2004                           4.892872   \n",
       "\n",
       "                   log_reflected_dpt3_immunization  logit_water_services  \\\n",
       "Country Name Year                                                          \n",
       "Afghanistan  2000                         2.683084             -1.551486   \n",
       "             2001                         2.545223             -1.551040   \n",
       "             2002                         2.495180             -1.518356   \n",
       "             2003                         2.406403             -1.487741   \n",
       "             2004                         2.226150             -1.458693   \n",
       "\n",
       "                   sqrt_health_expenditure  boxcox_mortality  Income_High  \n",
       "Country Name Year                                                          \n",
       "Afghanistan  2000                 1.221384          1.758949        False  \n",
       "             2001                 1.221384          1.743294        False  \n",
       "             2002                 1.065546          1.726970        False  \n",
       "             2003                 0.899279          1.709519        False  \n",
       "             2004                 1.183673          1.690822        False  "
      ]
     },
     "execution_count": 242,
     "metadata": {},
     "output_type": "execute_result"
    }
   ],
   "source": [
    "from linearmodels.panel import PanelOLS\n",
    "import pandas as pd\n",
    "\n",
    "final_df = pd.read_csv('../data/modeling/input_data.csv')\n",
    "final_df = final_df.set_index(['Country Name', 'Year'])\n",
    "\n",
    "final_df.head()"
   ]
  },
  {
   "cell_type": "code",
   "execution_count": 243,
   "id": "aba5a57d",
   "metadata": {},
   "outputs": [
    {
     "name": "stdout",
     "output_type": "stream",
     "text": [
      "                          PanelOLS Estimation Summary                           \n",
      "================================================================================\n",
      "Dep. Variable:       boxcox_mortality   R-squared:                        0.1805\n",
      "Estimator:                   PanelOLS   R-squared (Between):              0.0534\n",
      "No. Observations:                1760   R-squared (Within):               0.0161\n",
      "Date:                Wed, Oct 15 2025   R-squared (Overall):              0.0510\n",
      "Time:                        17:36:57   Log-likelihood                    1293.0\n",
      "Cov. Estimator:             Clustered                                           \n",
      "                                        F-statistic:                      51.968\n",
      "Entities:                          80   P-value                           0.0000\n",
      "Avg Obs:                       22.000   Distribution:                  F(7,1652)\n",
      "Min Obs:                       22.000                                           \n",
      "Max Obs:                       22.000   F-statistic (robust):             2.9076\n",
      "                                        P-value                           0.0050\n",
      "Time periods:                      22   Distribution:                  F(7,1652)\n",
      "Avg Obs:                       80.000                                           \n",
      "Min Obs:                       80.000                                           \n",
      "Max Obs:                       80.000                                           \n",
      "                                                                                \n",
      "                                         Parameter Estimates                                         \n",
      "=====================================================================================================\n",
      "                                   Parameter  Std. Err.     T-stat    P-value    Lower CI    Upper CI\n",
      "-----------------------------------------------------------------------------------------------------\n",
      "Intercept                             0.1093     0.0495     2.2097     0.0273      0.0123      0.2063\n",
      "log_gdp_per_capita                   -0.0453     0.1027    -0.4410     0.6593     -0.2466      0.1561\n",
      "sqrt_health_expenditure              -0.0290     0.0266    -1.0897     0.2760     -0.0811      0.0232\n",
      "log_reflected_dpt3_immunization       0.0077     0.0109     0.7069     0.4797     -0.0137      0.0291\n",
      "log_reflected_secondary_education    -0.0207     0.0279    -0.7414     0.4586     -0.0755      0.0341\n",
      "logit_water_services                 -0.0046     0.0541    -0.0853     0.9320     -0.1107      0.1015\n",
      "log_population_density                0.4658     0.1804     2.5822     0.0099      0.1120      0.8196\n",
      "log_gdp_per_capita:Income_High       -0.2815     0.1274    -2.2097     0.0273     -0.5314     -0.0316\n",
      "=====================================================================================================\n",
      "\n",
      "F-test for Poolability: 158.66\n",
      "P-value: 0.0000\n",
      "Distribution: F(100,1652)\n",
      "\n",
      "Included effects: Entity, Time\n"
     ]
    }
   ],
   "source": [
    "\n",
    "formula = \"\"\"\n",
    "boxcox_mortality ~ 1 + log_gdp_per_capita\n",
    "+ log_gdp_per_capita : Income_High\n",
    "+ sqrt_health_expenditure + log_reflected_dpt3_immunization\n",
    "+ log_reflected_secondary_education + logit_water_services\n",
    "+ log_population_density\n",
    "+ EntityEffects + TimeEffects\n",
    "\"\"\"\n",
    "\n",
    "fe_model = PanelOLS.from_formula(formula, data=final_df)\n",
    "results = fe_model.fit(cov_type='clustered', cluster_entity=True)\n",
    "print(results.summary)"
   ]
  },
  {
   "cell_type": "markdown",
   "id": "07a350e4",
   "metadata": {},
   "source": [
    "Since the p-value corresponding to the robust f-statistic <0.05, we have strong evidence that, collectively, the explanatory variables in the model (including GDP, its interactions, and the control variables) have a statistically significant effect on child mortality, after controlling for country-specific and year-specific fixed effects."
   ]
  },
  {
   "cell_type": "markdown",
   "id": "d4b5ed85",
   "metadata": {},
   "source": [
    "## Random Effects Model\n",
    "\n",
    "Random Effects Model assumes that individual country effects are uncorrelated with the explanatory variables. This allows for the inclusion of time-invariant variables, which is not possible in fixed effects models. This is useful in our case as some country-specific factors that influence child mortality might be constant over time (like geography) and we want to include them in the model."
   ]
  },
  {
   "cell_type": "code",
   "execution_count": 244,
   "id": "f5326fe7",
   "metadata": {},
   "outputs": [
    {
     "name": "stdout",
     "output_type": "stream",
     "text": [
      "                        RandomEffects Estimation Summary                        \n",
      "================================================================================\n",
      "Dep. Variable:       boxcox_mortality   R-squared:                        0.6403\n",
      "Estimator:              RandomEffects   R-squared (Between):              0.7994\n",
      "No. Observations:                1760   R-squared (Within):               0.6187\n",
      "Date:                Wed, Oct 15 2025   R-squared (Overall):              0.7878\n",
      "Time:                        17:36:57   Log-likelihood                    700.66\n",
      "Cov. Estimator:             Clustered                                           \n",
      "                                        F-statistic:                      445.62\n",
      "Entities:                          80   P-value                           0.0000\n",
      "Avg Obs:                       22.000   Distribution:                  F(7,1752)\n",
      "Min Obs:                       22.000                                           \n",
      "Max Obs:                       22.000   F-statistic (robust):             351.50\n",
      "                                        P-value                           0.0000\n",
      "Time periods:                      22   Distribution:                  F(7,1752)\n",
      "Avg Obs:                       80.000                                           \n",
      "Min Obs:                       80.000                                           \n",
      "Max Obs:                       80.000                                           \n",
      "                                                                                \n",
      "                                         Parameter Estimates                                         \n",
      "=====================================================================================================\n",
      "                                   Parameter  Std. Err.     T-stat    P-value    Lower CI    Upper CI\n",
      "-----------------------------------------------------------------------------------------------------\n",
      "Intercept                             0.1610     0.0419     3.8374     0.0001      0.0787      0.2433\n",
      "log_gdp_per_capita                   -0.7487     0.0310    -24.181     0.0000     -0.8095     -0.6880\n",
      "sqrt_health_expenditure              -0.1709     0.0141    -12.154     0.0000     -0.1985     -0.1434\n",
      "log_reflected_dpt3_immunization      -0.0095     0.0075    -1.2683     0.2049     -0.0243      0.0052\n",
      "log_reflected_secondary_education    -0.0772     0.0121    -6.3952     0.0000     -0.1009     -0.0535\n",
      "logit_water_services                 -0.0748     0.0201    -3.7285     0.0002     -0.1142     -0.0355\n",
      "log_population_density               -0.1640     0.0307    -5.3463     0.0000     -0.2241     -0.1038\n",
      "log_gdp_per_capita:Income_High       -0.4146     0.0436    -9.5166     0.0000     -0.5001     -0.3292\n",
      "=====================================================================================================\n"
     ]
    }
   ],
   "source": [
    "from linearmodels import RandomEffects\n",
    "\n",
    "formula = \"\"\"\n",
    "boxcox_mortality ~ 1 + log_gdp_per_capita\n",
    "+ log_gdp_per_capita : Income_High\n",
    "+ sqrt_health_expenditure + log_reflected_dpt3_immunization\n",
    "+ log_reflected_secondary_education + logit_water_services\n",
    "+ log_population_density\n",
    "+ TimeEffects\n",
    "\"\"\"\n",
    "\n",
    "re_model = RandomEffects.from_formula(formula, data=final_df)\n",
    "results = re_model.fit(cov_type='clustered')\n",
    "print(results.summary)"
   ]
  },
  {
   "cell_type": "code",
   "execution_count": 245,
   "id": "57570414",
   "metadata": {},
   "outputs": [
    {
     "name": "stdout",
     "output_type": "stream",
     "text": [
      "                                Model Comparison                               \n",
      "===============================================================================\n",
      "                                             Fixed Effects       Random Effects\n",
      "-------------------------------------------------------------------------------\n",
      "Dep. Variable                             boxcox_mortality     boxcox_mortality\n",
      "Estimator                                         PanelOLS        RandomEffects\n",
      "No. Observations                                      1760                 1760\n",
      "Cov. Est.                                        Clustered            Clustered\n",
      "R-squared                                           0.1805               0.6403\n",
      "R-Squared (Within)                                  0.0161               0.6187\n",
      "R-Squared (Between)                                 0.0534               0.7994\n",
      "R-Squared (Overall)                                 0.0510               0.7878\n",
      "F-statistic                                         51.968               445.62\n",
      "P-value (F-stat)                                    0.0000               0.0000\n",
      "===================================     ==================   ==================\n",
      "Intercept                                           0.1093               0.1610\n",
      "                                                  (2.2097)             (3.8374)\n",
      "log_gdp_per_capita                                 -0.0453              -0.7487\n",
      "                                                 (-0.4410)            (-24.181)\n",
      "sqrt_health_expenditure                            -0.0290              -0.1709\n",
      "                                                 (-1.0897)            (-12.154)\n",
      "log_reflected_dpt3_immunization                     0.0077              -0.0095\n",
      "                                                  (0.7069)            (-1.2683)\n",
      "log_reflected_secondary_education                  -0.0207              -0.0772\n",
      "                                                 (-0.7414)            (-6.3952)\n",
      "logit_water_services                               -0.0046              -0.0748\n",
      "                                                 (-0.0853)            (-3.7285)\n",
      "log_population_density                              0.4658              -0.1640\n",
      "                                                  (2.5822)            (-5.3463)\n",
      "log_gdp_per_capita:Income_High                     -0.2815              -0.4146\n",
      "                                                 (-2.2097)            (-9.5166)\n",
      "===================================== ==================== ====================\n",
      "Effects                                             Entity                     \n",
      "                                                      Time                     \n",
      "-------------------------------------------------------------------------------\n",
      "\n",
      "T-stats reported in parentheses\n"
     ]
    }
   ],
   "source": [
    "from linearmodels.panel import compare\n",
    "\n",
    "# Compare the models using Hausman test\n",
    "comparison = compare({'Fixed Effects': fe_model.fit(cov_type='clustered', cluster_entity=True),\n",
    "                      'Random Effects': re_model.fit(cov_type='clustered')})\n",
    "print(comparison)"
   ]
  },
  {
   "cell_type": "code",
   "execution_count": 246,
   "id": "9ca9e426",
   "metadata": {},
   "outputs": [
    {
     "data": {
      "image/png": "[encoded data removed]",
      "text/plain": [
       "<Figure size 600x400 with 1 Axes>"
      ]
     },
     "metadata": {},
     "output_type": "display_data"
    }
   ],
   "source": [
    "import matplotlib.pyplot as plt\n",
    "import seaborn as sns\n",
    "plt.figure(figsize=(6,4))\n",
    "sns.barplot(x=['Fixed Effects', 'Random Effects'], y=[0.1447, 0.7818])\n",
    "plt.ylabel(\"R-squared\")\n",
    "plt.title(\"Model Fit Comparison: FE vs RE\")\n",
    "plt.show()"
   ]
  },
  {
   "cell_type": "markdown",
   "id": "4a151fa1",
   "metadata": {},
   "source": [
    "## Hausman Test\n",
    "\n",
    "Below we compare the fixed effects and random effects models using Hausman test to see which is more suitable to use"
   ]
  },
  {
   "cell_type": "code",
   "execution_count": 247,
   "id": "fe2a3d4c",
   "metadata": {},
   "outputs": [
    {
     "name": "stdout",
     "output_type": "stream",
     "text": [
      "Hausman test statistic: 79.4424\n",
      "Degrees of freedom: 7\n",
      "P-value: 0.0000\n"
     ]
    }
   ],
   "source": [
    "import numpy as np\n",
    "from scipy import stats\n",
    "\n",
    "# 1️⃣ Fit models once\n",
    "fe_results = fe_model.fit(cov_type='clustered', cluster_entity=True)\n",
    "re_results = re_model.fit(cov_type='clustered')\n",
    "\n",
    "# 2️⃣ Select common regressors (exclude EntityEffects/TimeEffects)\n",
    "common_vars = ['log_gdp_per_capita', 'log_gdp_per_capita:Income_High', \n",
    "               'sqrt_health_expenditure', 'log_reflected_dpt3_immunization',\n",
    "               'log_reflected_secondary_education', 'logit_water_services', 'log_population_density']\n",
    "\n",
    "b_fe = fe_results.params[common_vars]\n",
    "b_re = re_results.params[common_vars]\n",
    "\n",
    "V_fe = fe_results.cov.loc[common_vars, common_vars]\n",
    "V_re = re_results.cov.loc[common_vars, common_vars]\n",
    "\n",
    "# 3️⃣ Hausman statistic\n",
    "diff = b_fe - b_re\n",
    "V_diff = V_fe - V_re\n",
    "\n",
    "# Use pseudo-inverse in case V_diff is singular\n",
    "H = diff.values @ np.linalg.pinv(V_diff.values) @ diff.values\n",
    "df = len(diff)\n",
    "p_value = 1 - stats.chi2.cdf(H, df)\n",
    "\n",
    "print(f\"Hausman test statistic: {H:.4f}\")\n",
    "print(f\"Degrees of freedom: {df}\")\n",
    "print(f\"P-value: {p_value:.4f}\")\n"
   ]
  },
  {
   "cell_type": "code",
   "execution_count": 248,
   "id": "50833a81",
   "metadata": {},
   "outputs": [
    {
     "data": {
      "text/plain": [
       "<matplotlib.lines.Line2D at 0x1615bcad0>"
      ]
     },
     "execution_count": 248,
     "metadata": {},
     "output_type": "execute_result"
    },
    {
     "data": {
      "image/png": "[encoded data removed]",
      "text/plain": [
       "<Figure size 800x500 with 1 Axes>"
      ]
     },
     "metadata": {},
     "output_type": "display_data"
    }
   ],
   "source": [
    "fe_res = fe_model.fit()\n",
    "re_res = re_model.fit()\n",
    "coef_comparison = pd.DataFrame({\n",
    "    'Variable': fe_res.params.index,\n",
    "    'FE': fe_res.params.values,\n",
    "    'RE': re_res.params.values\n",
    "}).set_index('Variable')\n",
    "\n",
    "coef_comparison.plot(kind='barh', figsize=(8,5))\n",
    "plt.title(\"FE vs RE Coefficient Comparison\")\n",
    "plt.axvline(0, color='grey', lw=1)\n"
   ]
  },
  {
   "cell_type": "markdown",
   "id": "1f7cdeb7",
   "metadata": {},
   "source": [
    "Since the Hausman test statistic is fairly high (79.4424), we can reject Random Effects in favor of Fixed Effects.\n",
    "Since the p-value is 0.0000 (less than 0.05), we have strong evidence that the Fixed Effects model is more appropriate than the Random Effects model for our data."
   ]
  },
  {
   "cell_type": "markdown",
   "id": "5e5d17c8",
   "metadata": {},
   "source": [
    "## Adding more interactions to the Fixed Effects Model"
   ]
  },
  {
   "cell_type": "code",
   "execution_count": 249,
   "id": "b080fa52",
   "metadata": {},
   "outputs": [
    {
     "name": "stdout",
     "output_type": "stream",
     "text": [
      "                          PanelOLS Estimation Summary                           \n",
      "================================================================================\n",
      "Dep. Variable:       boxcox_mortality   R-squared:                        0.2204\n",
      "Estimator:                   PanelOLS   R-squared (Between):              0.1530\n",
      "No. Observations:                1760   R-squared (Within):               0.0593\n",
      "Date:                Wed, Oct 15 2025   R-squared (Overall):              0.1469\n",
      "Time:                        17:36:57   Log-likelihood                    1336.9\n",
      "Cov. Estimator:             Clustered                                           \n",
      "                                        F-statistic:                      38.793\n",
      "Entities:                          80   P-value                           0.0000\n",
      "Avg Obs:                       22.000   Distribution:                 F(12,1647)\n",
      "Min Obs:                       22.000                                           \n",
      "Max Obs:                       22.000   F-statistic (robust):             3.7612\n",
      "                                        P-value                           0.0000\n",
      "Time periods:                      22   Distribution:                 F(12,1647)\n",
      "Avg Obs:                       80.000                                           \n",
      "Min Obs:                       80.000                                           \n",
      "Max Obs:                       80.000                                           \n",
      "                                                                                \n",
      "                                                    Parameter Estimates                                                     \n",
      "============================================================================================================================\n",
      "                                                          Parameter  Std. Err.     T-stat    P-value    Lower CI    Upper CI\n",
      "----------------------------------------------------------------------------------------------------------------------------\n",
      "Intercept                                                    0.1619     0.0537     3.0147     0.0026      0.0566      0.2672\n",
      "log_gdp_per_capita                                          -0.0801     0.1018    -0.7868     0.4315     -0.2799      0.1196\n",
      "sqrt_health_expenditure                                     -0.0041     0.0259    -0.1593     0.8735     -0.0548      0.0466\n",
      "log_reflected_dpt3_immunization                              0.0124     0.0133     0.9321     0.3514     -0.0137      0.0385\n",
      "log_reflected_secondary_education                           -0.0006     0.0280    -0.0215     0.9828     -0.0556      0.0544\n",
      "log_population_density                                       0.4697     0.1702     2.7603     0.0058      0.1360      0.8035\n",
      "log_gdp_per_capita:Income_High                              -0.3389     0.1305    -2.5963     0.0095     -0.5949     -0.0829\n",
      "sqrt_health_expenditure:log_population_density               0.0225     0.0329     0.6849     0.4935     -0.0420      0.0871\n",
      "sqrt_health_expenditure:Income_High                         -0.0735     0.0430    -1.7101     0.0874     -0.1577      0.0108\n",
      "log_reflected_dpt3_immunization:Income_High                 -0.0245     0.0306    -0.8001     0.4237     -0.0844      0.0355\n",
      "log_reflected_dpt3_immunization:log_population_density       0.0129     0.0119     1.0860     0.2776     -0.0104      0.0362\n",
      "log_reflected_secondary_education:log_population_density     0.0147     0.0233     0.6324     0.5272     -0.0309      0.0603\n",
      "logit_water_services:log_population_density                 -0.0663     0.0246    -2.6916     0.0072     -0.1145     -0.0180\n",
      "============================================================================================================================\n",
      "\n",
      "F-test for Poolability: 139.72\n",
      "P-value: 0.0000\n",
      "Distribution: F(100,1647)\n",
      "\n",
      "Included effects: Entity, Time\n"
     ]
    }
   ],
   "source": [
    "\n",
    "formula = \"\"\"\n",
    "boxcox_mortality ~ 1 + log_gdp_per_capita\n",
    "+ log_gdp_per_capita : Income_High\n",
    "+ sqrt_health_expenditure \n",
    "+ sqrt_health_expenditure : log_population_density\n",
    "+ sqrt_health_expenditure : Income_High\n",
    "+ log_reflected_dpt3_immunization\n",
    "+ log_reflected_dpt3_immunization : Income_High\n",
    "+ log_reflected_dpt3_immunization : log_population_density\n",
    "+ log_reflected_secondary_education\n",
    "+ log_reflected_secondary_education : log_population_density\n",
    "+ logit_water_services : log_population_density\n",
    "+ log_population_density\n",
    "+ EntityEffects + TimeEffects\n",
    "\"\"\"\n",
    "\n",
    "fe_model_version_2 = PanelOLS.from_formula(formula, data=final_df)\n",
    "results = fe_model_version_2.fit(cov_type='clustered', cluster_entity=True)\n",
    "print(results.summary)"
   ]
  },
  {
   "cell_type": "markdown",
   "id": "b823bedc",
   "metadata": {},
   "source": [
    "## Mundlak Approach"
   ]
  },
  {
   "cell_type": "code",
   "execution_count": 250,
   "id": "9523dab3",
   "metadata": {},
   "outputs": [],
   "source": [
    "# Assuming 'Country Name' and 'Year' are your panel identifiers\n",
    "panel_vars = ['Country Name', 'Year']\n",
    "df = final_df.sort_values(panel_vars)\n",
    "\n",
    "# Lagged variables (lag 1 year)\n",
    "df['log_gdp_per_capita_lag1'] = df.groupby('Country Name')['log_gdp_per_capita'].shift(1)\n",
    "df['sqrt_health_expenditure_lag1'] = df.groupby('Country Name')['sqrt_health_expenditure'].shift(1)\n",
    "df['log_reflected_dpt3_immunization_lag1'] = df.groupby('Country Name')['log_reflected_dpt3_immunization'].shift(1)\n",
    "df['log_population_density_lag1'] = df.groupby('Country Name')['log_population_density'].shift(1)\n",
    "df['logit_water_services_lag1'] = df.groupby('Country Name')['logit_water_services'].shift(1)"
   ]
  },
  {
   "cell_type": "code",
   "execution_count": 251,
   "id": "9c692744",
   "metadata": {},
   "outputs": [],
   "source": [
    "# Entity means\n",
    "df['log_gdp_mean'] = df.groupby('Country Name')['log_gdp_per_capita'].transform('mean')\n",
    "df['sqrt_health_expenditure_mean'] = df.groupby('Country Name')['sqrt_health_expenditure'].transform('mean')\n",
    "df['log_reflected_dpt3_immunization_mean'] = df.groupby('Country Name')['log_reflected_dpt3_immunization'].transform('mean')\n",
    "df['log_population_density_mean'] = df.groupby('Country Name')['log_population_density'].transform('mean')\n",
    "df['logit_water_services_mean'] = df.groupby('Country Name')['logit_water_services'].transform('mean')"
   ]
  },
  {
   "cell_type": "code",
   "execution_count": 252,
   "id": "f1570b9e",
   "metadata": {},
   "outputs": [
    {
     "name": "stdout",
     "output_type": "stream",
     "text": [
      "                          PanelOLS Estimation Summary                           \n",
      "================================================================================\n",
      "Dep. Variable:       boxcox_mortality   R-squared:                        0.8893\n",
      "Estimator:                   PanelOLS   R-squared (Between):              0.9079\n",
      "No. Observations:                1680   R-squared (Within):               0.2968\n",
      "Date:                Wed, Oct 15 2025   R-squared (Overall):              0.8724\n",
      "Time:                        17:36:57   Log-likelihood                   -500.76\n",
      "Cov. Estimator:             Clustered                                           \n",
      "                                        F-statistic:                      824.82\n",
      "Entities:                          80   P-value                           0.0000\n",
      "Avg Obs:                       21.000   Distribution:                 F(16,1643)\n",
      "Min Obs:                       21.000                                           \n",
      "Max Obs:                       21.000   F-statistic (robust):             69.413\n",
      "                                        P-value                           0.0000\n",
      "Time periods:                      21   Distribution:                 F(16,1643)\n",
      "Avg Obs:                       80.000                                           \n",
      "Min Obs:                       80.000                                           \n",
      "Max Obs:                       80.000                                           \n",
      "                                                                                \n",
      "                                                        Parameter Estimates                                                         \n",
      "====================================================================================================================================\n",
      "                                                                  Parameter  Std. Err.     T-stat    P-value    Lower CI    Upper CI\n",
      "------------------------------------------------------------------------------------------------------------------------------------\n",
      "Intercept                                                            0.0499     0.0538     0.9284     0.3533     -0.0556      0.1555\n",
      "log_gdp_per_capita_lag1                                             -0.2484     0.0953    -2.6076     0.0092     -0.4352     -0.0616\n",
      "sqrt_health_expenditure_lag1                                         0.0239     0.0349     0.6845     0.4938     -0.0445      0.0922\n",
      "log_reflected_dpt3_immunization_lag1                                -0.0631     0.0245    -2.5760     0.0101     -0.1112     -0.0151\n",
      "log_reflected_secondary_education                                   -0.0709     0.0291    -2.4379     0.0149     -0.1279     -0.0139\n",
      "logit_water_services_mean                                           -0.1281     0.0906    -1.4133     0.1578     -0.3058      0.0497\n",
      "log_population_density_mean                                         -0.0087     0.0441    -0.1975     0.8434     -0.0952      0.0778\n",
      "log_gdp_mean                                                        -0.3487     0.1101    -3.1663     0.0016     -0.5647     -0.1327\n",
      "sqrt_health_expenditure_mean                                        -0.1733     0.0533    -3.2543     0.0012     -0.2778     -0.0689\n",
      "log_reflected_dpt3_immunization_mean                                 0.1693     0.0574     2.9488     0.0032      0.0567      0.2820\n",
      "log_gdp_per_capita_lag1:Income_High                                 -0.0790     0.0986    -0.8017     0.4228     -0.2723      0.1143\n",
      "sqrt_health_expenditure_lag1:log_population_density_lag1            -0.0289     0.0401    -0.7211     0.4709     -0.1075      0.0497\n",
      "sqrt_health_expenditure_lag1:Income_High                            -0.2170     0.0742    -2.9255     0.0035     -0.3624     -0.0715\n",
      "log_reflected_dpt3_immunization_lag1:Income_High                     0.1523     0.0630     2.4181     0.0157      0.0288      0.2758\n",
      "log_reflected_dpt3_immunization_lag1:log_population_density_lag1     0.0485     0.0390     1.2444     0.2135     -0.0279      0.1249\n",
      "log_reflected_secondary_education:log_population_density_lag1       -0.0366     0.0345    -1.0603     0.2891     -0.1044      0.0311\n",
      "logit_water_services_lag1:log_population_density_lag1                0.1249     0.0404     3.0928     0.0020      0.0457      0.2041\n",
      "====================================================================================================================================\n",
      "\n",
      "F-test for Poolability: 5.5930\n",
      "P-value: 0.0000\n",
      "Distribution: F(20,1643)\n",
      "\n",
      "Included effects: Time\n"
     ]
    },
    {
     "name": "stderr",
     "output_type": "stream",
     "text": [
      "/Users/shreyasriram/sdg-modeling/sustainable-development-goals-modeling/venv/lib/python3.11/site-packages/linearmodels/panel/model.py:1260: MissingValueWarning: \n",
      "Inputs contain missing values. Dropping rows with missing observations.\n",
      "  super().__init__(dependent, exog, weights=weights, check_rank=check_rank)\n"
     ]
    }
   ],
   "source": [
    "formula = \"\"\"\n",
    "boxcox_mortality ~ 1\n",
    "+ log_gdp_per_capita_lag1\n",
    "+ log_gdp_per_capita_lag1 : Income_High\n",
    "+ sqrt_health_expenditure_lag1\n",
    "+ sqrt_health_expenditure_lag1 : log_population_density_lag1\n",
    "+ sqrt_health_expenditure_lag1 : Income_High\n",
    "+ log_reflected_dpt3_immunization_lag1\n",
    "+ log_reflected_dpt3_immunization_lag1 : Income_High\n",
    "+ log_reflected_dpt3_immunization_lag1 : log_population_density_lag1\n",
    "+ log_reflected_secondary_education\n",
    "+ log_reflected_secondary_education : log_population_density_lag1\n",
    "+ logit_water_services_mean\n",
    "+ logit_water_services_lag1 : log_population_density_lag1\n",
    "+ log_population_density_mean\n",
    "+ log_gdp_mean\n",
    "+ sqrt_health_expenditure_mean\n",
    "+ log_reflected_dpt3_immunization_mean\n",
    "+ TimeEffects\n",
    "\"\"\"\n",
    "\n",
    "fe_model_mundlak = PanelOLS.from_formula(formula, data=df)\n",
    "results = fe_model_mundlak.fit(cov_type='clustered', cluster_entity=True)\n",
    "print(results.summary)"
   ]
  },
  {
   "cell_type": "code",
   "execution_count": 253,
   "id": "42a31b16",
   "metadata": {},
   "outputs": [
    {
     "name": "stdout",
     "output_type": "stream",
     "text": [
      "Income_Low slope: -0.248\n",
      "Income_High slope: -0.327\n"
     ]
    }
   ],
   "source": [
    "coef = results.params\n",
    "\n",
    "slope_low = coef['log_gdp_per_capita_lag1']\n",
    "slope_high = slope_low + coef['log_gdp_per_capita_lag1:Income_High']\n",
    "\n",
    "print(f\"Income_Low slope: {slope_low:.3f}\")\n",
    "print(f\"Income_High slope: {slope_high:.3f}\")"
   ]
  },
  {
   "cell_type": "markdown",
   "id": "61c73a26",
   "metadata": {},
   "source": [
    "R^2 (Overall) has jumped from 0.0510 (the first FE model fit) to 0.8724 indicating a much better fit with the Mundlak approach.\n",
    "Mundlak approach is able to account for some of the entity-specific effects better by including lag terms for gdp, health expenditure, and DPT3 immunization along with using their means as additional predictors.\n",
    "\n",
    "However the slopes for low income are much lower than those for high income but the p-value of `log_gdp_per_capita_lag1:Income_High` is over 0.05 so we are not conclusively able to accept or reject the null hypothesis so trying an alternate approach."
   ]
  },
  {
   "cell_type": "markdown",
   "id": "ffec02cd",
   "metadata": {},
   "source": [
    "## Hierarachical panel model"
   ]
  },
  {
   "cell_type": "code",
   "execution_count": 254,
   "id": "2b98e78d",
   "metadata": {},
   "outputs": [
    {
     "name": "stdout",
     "output_type": "stream",
     "text": [
      "1760\n"
     ]
    },
    {
     "name": "stderr",
     "output_type": "stream",
     "text": [
      "/var/folders/yk/c0cfqj715njfdnphhzw8m5p00000gn/T/ipykernel_71775/2235807662.py:10: FutureWarning: The default of observed=False is deprecated and will be changed to True in a future version of pandas. Pass observed=False to retain current behavior or observed=True to adopt the future default and silence this warning.\n",
      "  final_df['log_gdp_per_capita_lag1'] = final_df.groupby('Country Name')['log_gdp_per_capita'].shift(1)\n",
      "/var/folders/yk/c0cfqj715njfdnphhzw8m5p00000gn/T/ipykernel_71775/2235807662.py:11: FutureWarning: The default of observed=False is deprecated and will be changed to True in a future version of pandas. Pass observed=False to retain current behavior or observed=True to adopt the future default and silence this warning.\n",
      "  final_df['sqrt_health_expenditure_lag1'] = final_df.groupby('Country Name')['sqrt_health_expenditure'].shift(1)\n",
      "/var/folders/yk/c0cfqj715njfdnphhzw8m5p00000gn/T/ipykernel_71775/2235807662.py:12: FutureWarning: The default of observed=False is deprecated and will be changed to True in a future version of pandas. Pass observed=False to retain current behavior or observed=True to adopt the future default and silence this warning.\n",
      "  final_df['log_reflected_dpt3_immunization_lag1'] = final_df.groupby('Country Name')['log_reflected_dpt3_immunization'].shift(1)\n",
      "/var/folders/yk/c0cfqj715njfdnphhzw8m5p00000gn/T/ipykernel_71775/2235807662.py:13: FutureWarning: The default of observed=False is deprecated and will be changed to True in a future version of pandas. Pass observed=False to retain current behavior or observed=True to adopt the future default and silence this warning.\n",
      "  final_df['log_population_density_lag1'] = final_df.groupby('Country Name')['log_population_density'].shift(1)\n"
     ]
    }
   ],
   "source": [
    "import pandas as pd\n",
    "import statsmodels.formula.api as smf\n",
    "\n",
    "# Ensure categorical variables are coded properly\n",
    "final_df = pd.read_csv('../data/modeling/input_data.csv')\n",
    "final_df['Income classification'] = final_df['Income classification'].astype('category')\n",
    "final_df['Country Name'] = final_df['Country Name'].astype('category')\n",
    "\n",
    "# Lagged variables (lag 1 year)\n",
    "final_df['log_gdp_per_capita_lag1'] = final_df.groupby('Country Name')['log_gdp_per_capita'].shift(1)\n",
    "final_df['sqrt_health_expenditure_lag1'] = final_df.groupby('Country Name')['sqrt_health_expenditure'].shift(1)\n",
    "final_df['log_reflected_dpt3_immunization_lag1'] = final_df.groupby('Country Name')['log_reflected_dpt3_immunization'].shift(1)\n",
    "final_df['log_population_density_lag1'] = final_df.groupby('Country Name')['log_population_density'].shift(1)\n",
    "print(len(final_df))"
   ]
  },
  {
   "cell_type": "code",
   "execution_count": 255,
   "id": "f9b95add",
   "metadata": {},
   "outputs": [
    {
     "name": "stdout",
     "output_type": "stream",
     "text": [
      "1680\n",
      "                     Mixed Linear Model Regression Results\n",
      "================================================================================\n",
      "Model:                  MixedLM       Dependent Variable:       boxcox_mortality\n",
      "No. Observations:       1680          Method:                   ML              \n",
      "No. Groups:             2             Scale:                    0.1252          \n",
      "Min. group size:        732           Log-Likelihood:           -645.9535       \n",
      "Max. group size:        948           Converged:                No              \n",
      "Mean group size:        840.0                                                   \n",
      "--------------------------------------------------------------------------------\n",
      "                                     Coef.  Std.Err.    z    P>|z| [0.025 0.975]\n",
      "--------------------------------------------------------------------------------\n",
      "Intercept                            -0.195    0.274  -0.712 0.477 -0.731  0.342\n",
      "log_gdp_per_capita_lag1              -0.452    0.121  -3.753 0.000 -0.689 -0.216\n",
      "sqrt_health_expenditure_lag1         -0.221    0.010 -22.617 0.000 -0.240 -0.201\n",
      "log_reflected_dpt3_immunization_lag1  0.079    0.010   7.863 0.000  0.060  0.099\n",
      "log_reflected_secondary_education    -0.034    0.009  -3.749 0.000 -0.053 -0.016\n",
      "Group Var                             0.151    0.501                            \n",
      "Group x log_gdp_per_capita_lag1 Cov  -0.065    0.211                            \n",
      "log_gdp_per_capita_lag1 Var           0.029    0.079                            \n",
      "================================================================================\n",
      "\n"
     ]
    },
    {
     "name": "stderr",
     "output_type": "stream",
     "text": [
      "/Users/shreyasriram/sdg-modeling/sustainable-development-goals-modeling/venv/lib/python3.11/site-packages/statsmodels/base/model.py:607: ConvergenceWarning: Maximum Likelihood optimization failed to converge. Check mle_retvals\n",
      "  warnings.warn(\"Maximum Likelihood optimization failed to \"\n",
      "/Users/shreyasriram/sdg-modeling/sustainable-development-goals-modeling/venv/lib/python3.11/site-packages/statsmodels/regression/mixed_linear_model.py:2200: ConvergenceWarning: Retrying MixedLM optimization with lbfgs\n",
      "  warnings.warn(\n",
      "/Users/shreyasriram/sdg-modeling/sustainable-development-goals-modeling/venv/lib/python3.11/site-packages/statsmodels/base/model.py:607: ConvergenceWarning: Maximum Likelihood optimization failed to converge. Check mle_retvals\n",
      "  warnings.warn(\"Maximum Likelihood optimization failed to \"\n",
      "/Users/shreyasriram/sdg-modeling/sustainable-development-goals-modeling/venv/lib/python3.11/site-packages/statsmodels/regression/mixed_linear_model.py:2200: ConvergenceWarning: Retrying MixedLM optimization with cg\n",
      "  warnings.warn(\n",
      "/Users/shreyasriram/sdg-modeling/sustainable-development-goals-modeling/venv/lib/python3.11/site-packages/statsmodels/base/model.py:607: ConvergenceWarning: Maximum Likelihood optimization failed to converge. Check mle_retvals\n",
      "  warnings.warn(\"Maximum Likelihood optimization failed to \"\n",
      "/Users/shreyasriram/sdg-modeling/sustainable-development-goals-modeling/venv/lib/python3.11/site-packages/statsmodels/regression/mixed_linear_model.py:2206: ConvergenceWarning: MixedLM optimization failed, trying a different optimizer may help.\n",
      "  warnings.warn(msg, ConvergenceWarning)\n",
      "/Users/shreyasriram/sdg-modeling/sustainable-development-goals-modeling/venv/lib/python3.11/site-packages/statsmodels/regression/mixed_linear_model.py:2218: ConvergenceWarning: Gradient optimization failed, |grad| = 15.516962\n",
      "  warnings.warn(msg, ConvergenceWarning)\n",
      "/Users/shreyasriram/sdg-modeling/sustainable-development-goals-modeling/venv/lib/python3.11/site-packages/statsmodels/regression/mixed_linear_model.py:2261: ConvergenceWarning: The Hessian matrix at the estimated parameter values is not positive definite.\n",
      "  warnings.warn(msg, ConvergenceWarning)\n"
     ]
    }
   ],
   "source": [
    "# Random intercept & slope by Income group\n",
    "formula = \"boxcox_mortality ~ log_gdp_per_capita_lag1 + sqrt_health_expenditure_lag1 + log_reflected_dpt3_immunization_lag1 + log_reflected_secondary_education\"\n",
    "\n",
    "# groups = Income_group allows us to have random effects by income\n",
    "# re_formula = \"1 + log_gdp_per_capita_lag1\" allows GDP slope to vary\n",
    "df_clean = final_df.dropna(subset=[\n",
    "    'log_gdp_per_capita_lag1',\n",
    "    'sqrt_health_expenditure_lag1',\n",
    "    'log_reflected_dpt3_immunization_lag1',\n",
    "    'log_reflected_secondary_education',\n",
    "    'boxcox_mortality',\n",
    "    'Income classification'\n",
    "])\n",
    "print(len(df_clean))\n",
    "\n",
    "model = smf.mixedlm(formula, df_clean, groups=df_clean[\"Income classification\"], re_formula=\"1 + log_gdp_per_capita_lag1\")\n",
    "result = model.fit(reml=False)\n",
    "\n",
    "print(result.summary())"
   ]
  },
  {
   "cell_type": "code",
   "execution_count": 256,
   "id": "31566927",
   "metadata": {},
   "outputs": [
    {
     "name": "stdout",
     "output_type": "stream",
     "text": [
      "Income group: High\n",
      "Group                     -0.360317\n",
      "log_gdp_per_capita_lag1    0.155954\n",
      "dtype: float64\n",
      "Income group: Low\n",
      "Group                      0.360317\n",
      "log_gdp_per_capita_lag1   -0.155954\n",
      "dtype: float64\n"
     ]
    }
   ],
   "source": [
    "# Random effects for each income group\n",
    "re = result.random_effects\n",
    "for group, effects in re.items():\n",
    "    print(f\"Income group: {group}\")\n",
    "    print(effects)\n"
   ]
  },
  {
   "cell_type": "code",
   "execution_count": 257,
   "id": "b8151a38",
   "metadata": {},
   "outputs": [
    {
     "name": "stdout",
     "output_type": "stream",
     "text": [
      "GDP effect by income group:\n",
      "High: -0.296\n",
      "Low: -0.608\n"
     ]
    }
   ],
   "source": [
    "fixed_slope = result.fe_params['log_gdp_per_capita_lag1']\n",
    "\n",
    "group_slopes = {}\n",
    "for group, effects in re.items():\n",
    "    group_slopes[group] = fixed_slope + effects['log_gdp_per_capita_lag1']\n",
    "\n",
    "print(\"GDP effect by income group:\")\n",
    "for group, slope in group_slopes.items():\n",
    "    print(f\"{group}: {slope:.3f}\")\n"
   ]
  },
  {
   "cell_type": "code",
   "execution_count": 258,
   "id": "11c43de1",
   "metadata": {},
   "outputs": [
    {
     "data": {
      "image/png": "[encoded data removed]",
      "text/plain": [
       "<Figure size 800x500 with 1 Axes>"
      ]
     },
     "metadata": {},
     "output_type": "display_data"
    }
   ],
   "source": [
    "import matplotlib.pyplot as plt\n",
    "\n",
    "groups = list(group_slopes.keys())\n",
    "slopes = [group_slopes[g] for g in groups]\n",
    "\n",
    "plt.figure(figsize=(8,5))\n",
    "plt.bar(groups, slopes, color='skyblue')\n",
    "plt.axhline(fixed_slope, color='red', linestyle='--', label='Fixed effect slope')\n",
    "plt.ylabel(\"GDP effect on Box-Cox Mortality\")\n",
    "plt.title(\"GDP-Mortality Slope by Income Group (Mixed Model)\")\n",
    "plt.legend()\n",
    "plt.show()\n"
   ]
  },
  {
   "cell_type": "markdown",
   "id": "3c994c1e",
   "metadata": {},
   "source": [
    "Low income is steeper than the dashed line indicating a stronger mortality reduction per unit increase compared to High income."
   ]
  },
  {
   "cell_type": "markdown",
   "id": "2c41c10a",
   "metadata": {},
   "source": [
    "Calculating the confidence intervals for the slopes for low income and high income"
   ]
  },
  {
   "cell_type": "code",
   "execution_count": 259,
   "id": "cfe57eba",
   "metadata": {},
   "outputs": [
    {
     "name": "stdout",
     "output_type": "stream",
     "text": [
      "High-income slope: -0.452, 95% CI: (np.float64(-0.6886705509310754), np.float64(-0.21613949952468012))\n",
      "Low-income slope: -0.608, 95% CI: (np.float64(-1.0159368985314612), np.float64(-0.20078083072314662))\n"
     ]
    }
   ],
   "source": [
    "import numpy as np\n",
    "\n",
    "# Fixed effect slope of GDP\n",
    "beta_gdp = result.params['log_gdp_per_capita_lag1']\n",
    "se_beta = result.bse['log_gdp_per_capita_lag1']\n",
    "\n",
    "# Random effect variance for GDP slope across groups\n",
    "var_gdp_random = result.cov_re.loc['log_gdp_per_capita_lag1', 'log_gdp_per_capita_lag1']\n",
    "\n",
    "# For high-income group , slope = fixed effect\n",
    "high_slope = beta_gdp\n",
    "high_se = se_beta  # SE of fixed effect\n",
    "high_ci = (high_slope - 1.96*high_se, high_slope + 1.96*high_se)\n",
    "\n",
    "# Extract the random effect for low-income group\n",
    "low_group = 'Low'  # Make sure this matches your group label in df_clean\n",
    "low_random = result.random_effects[low_group]['log_gdp_per_capita_lag1']\n",
    "\n",
    "low_slope = beta_gdp + low_random\n",
    "\n",
    "# Standard error approximation: combine fixed and random variances\n",
    "low_se = np.sqrt(se_beta**2 + var_gdp_random)\n",
    "low_ci = (low_slope - 1.96*low_se, low_slope + 1.96*low_se)\n",
    "\n",
    "print(f\"High-income slope: {high_slope:.3f}, 95% CI: {high_ci}\")\n",
    "print(f\"Low-income slope: {low_slope:.3f}, 95% CI: {low_ci}\")\n"
   ]
  },
  {
   "cell_type": "markdown",
   "id": "8896108e",
   "metadata": {},
   "source": [
    "## Scale the predictors back to inputs to quantify the impact in the original scale"
   ]
  },
  {
   "cell_type": "code",
   "execution_count": 261,
   "id": "83c4dbbc",
   "metadata": {},
   "outputs": [
    {
     "name": "stdout",
     "output_type": "stream",
     "text": [
      "Low-income: mortality change = -1.76, percent change = -4.7%\n",
      "High-income: mortality change = -0.21, percent change = -4.2%\n"
     ]
    }
   ],
   "source": [
    "import numpy as np\n",
    "\n",
    "# Box-Cox lambda (replace with your actual λ)\n",
    "lambda_bc = -0.1992 # from exploratory_data_analysis.ipynb\n",
    "# Current mortality (can also take mean per income group)\n",
    "mortality_current_low = 37.26\n",
    "mortality_current_high = 5.05\n",
    "\n",
    "gdp_pct_increase = 10 # ballpark figure\n",
    "delta_log_gdp = np.log(1 + gdp_pct_increase/100)\n",
    "\n",
    "# Function to back-transform Box-Cox (if λ != 0)\n",
    "def boxcox_inverse(y_star, lmbda):\n",
    "    if lmbda == 0:\n",
    "        return np.exp(y_star)\n",
    "    else:\n",
    "        return np.power(lmbda * y_star + 1, 1/lmbda)\n",
    " \n",
    "# Step 1: Estimate change in Box-Cox space\n",
    "delta_y_low = slope_low * delta_log_gdp\n",
    "delta_y_high = slope_high * delta_log_gdp\n",
    "\n",
    "# Step 2: Convert current mortality to Box-Cox space\n",
    "def to_boxcox_log(mortality, lmbda):\n",
    "    y = np.log(mortality)\n",
    "    if lmbda == 0:\n",
    "        return y\n",
    "    else:\n",
    "        return (mortality**lmbda - 1)/lmbda\n",
    "\n",
    "y_star_low = to_boxcox_log(mortality_current_low, lambda_bc)\n",
    "y_star_high = to_boxcox_log(mortality_current_high, lambda_bc)\n",
    "\n",
    "# Step 3: Apply delta in Box-Cox space\n",
    "y_star_low_new = y_star_low + delta_y_low\n",
    "y_star_high_new = y_star_high + delta_y_high\n",
    "\n",
    "# Step 4: Back-transform to actual mortality\n",
    "mortality_low_new = boxcox_inverse(y_star_low_new, lambda_bc)\n",
    "mortality_high_new = boxcox_inverse(y_star_high_new, lambda_bc)\n",
    "\n",
    "# Step 5: Compute absolute and percent change\n",
    "abs_change_low = mortality_low_new - mortality_current_low\n",
    "abs_change_high = mortality_high_new - mortality_current_high\n",
    "\n",
    "pct_change_low = abs_change_low / mortality_current_low * 100\n",
    "pct_change_high = abs_change_high / mortality_current_high * 100\n",
    "\n",
    "print(f\"Low-income: mortality change = {abs_change_low:.2f}, percent change = {pct_change_low:.1f}%\")\n",
    "print(f\"High-income: mortality change = {abs_change_high:.2f}, percent change = {pct_change_high:.1f}%\")\n"
   ]
  },
  {
   "cell_type": "markdown",
   "id": "20227a26",
   "metadata": {},
   "source": [
    "The interpretation of the above is that a 10% increase in GDP per capita is associated with approximately 1,760 fewer child deaths per 1,000,000 in low-income countries and 210 fewer deaths per 1,000,000 in high-income countries.\n",
    "\n",
    "In other words, a 10% rise in GDP per capita — a proxy for national income — prevents roughly eight times more child deaths in poorer economies.\n",
    "\n",
    "This corresponds to about a 4.7% reduction in under-5 mortality in low-income countries and 4.2% in high-income countries. The relatively high percentage reduction in high-income countries reflects their lower baseline mortality, meaning that even small absolute improvements translate to larger proportional gains."
   ]
  },
  {
   "cell_type": "markdown",
   "id": "1d84915b",
   "metadata": {},
   "source": [
    "TODO can calculate confidence intervals for the above values!"
   ]
  }
 ],
 "metadata": {
  "kernelspec": {
   "display_name": "venv",
   "language": "python",
   "name": "python3"
  },
  "language_info": {
   "codemirror_mode": {
    "name": "ipython",
    "version": 3
   },
   "file_extension": ".py",
   "mimetype": "text/x-python",
   "name": "python",
   "nbconvert_exporter": "python",
   "pygments_lexer": "ipython3",
   "version": "3.11.13"
  }
 },
 "nbformat": 4,
 "nbformat_minor": 5
}
